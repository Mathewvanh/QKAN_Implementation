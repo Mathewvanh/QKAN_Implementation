{
 "cells": [
  {
   "cell_type": "code",
   "id": "initial_id",
   "metadata": {
    "collapsed": true,
    "ExecuteTime": {
     "end_time": "2025-02-02T04:45:36.767755Z",
     "start_time": "2025-02-02T04:45:35.715840Z"
    }
   },
   "source": "import polars as pl",
   "outputs": [],
   "execution_count": 1
  },
  {
   "metadata": {
    "ExecuteTime": {
     "end_time": "2025-02-02T04:46:54.707484Z",
     "start_time": "2025-02-02T04:46:54.698501Z"
    }
   },
   "cell_type": "code",
   "source": "lf = pl.scan_parquet(\"~/Interning/Kaggle/jane_street_kaggle/jane-street-real-time-market-data-forecasting/train.parquet/\")",
   "id": "1c4d5c3debfea8e6",
   "outputs": [],
   "execution_count": 2
  },
  {
   "metadata": {
    "ExecuteTime": {
     "end_time": "2025-02-02T04:47:59.321530Z",
     "start_time": "2025-02-02T04:47:35.342852Z"
    }
   },
   "cell_type": "code",
   "source": "lf.count().collect()",
   "id": "b8df21b9df67a0b7",
   "outputs": [
    {
     "data": {
      "text/plain": [
       "shape: (1, 93)\n",
       "┌──────────┬──────────┬───────────┬──────────┬───┬────────────┬────────────┬───────────┬───────────┐\n",
       "│ date_id  ┆ time_id  ┆ symbol_id ┆ weight   ┆ … ┆ responder_ ┆ responder_ ┆ responder ┆ partition │\n",
       "│ ---      ┆ ---      ┆ ---       ┆ ---      ┆   ┆ 6          ┆ 7          ┆ _8        ┆ _id       │\n",
       "│ u32      ┆ u32      ┆ u32       ┆ u32      ┆   ┆ ---        ┆ ---        ┆ ---       ┆ ---       │\n",
       "│          ┆          ┆           ┆          ┆   ┆ u32        ┆ u32        ┆ u32       ┆ u32       │\n",
       "╞══════════╪══════════╪═══════════╪══════════╪═══╪════════════╪════════════╪═══════════╪═══════════╡\n",
       "│ 47127338 ┆ 47127338 ┆ 47127338  ┆ 47127338 ┆ … ┆ 47127338   ┆ 47127338   ┆ 47127338  ┆ 47127338  │\n",
       "└──────────┴──────────┴───────────┴──────────┴───┴────────────┴────────────┴───────────┴───────────┘"
      ],
      "text/html": [
       "<div><style>\n",
       ".dataframe > thead > tr,\n",
       ".dataframe > tbody > tr {\n",
       "  text-align: right;\n",
       "  white-space: pre-wrap;\n",
       "}\n",
       "</style>\n",
       "<small>shape: (1, 93)</small><table border=\"1\" class=\"dataframe\"><thead><tr><th>date_id</th><th>time_id</th><th>symbol_id</th><th>weight</th><th>feature_00</th><th>feature_01</th><th>feature_02</th><th>feature_03</th><th>feature_04</th><th>feature_05</th><th>feature_06</th><th>feature_07</th><th>feature_08</th><th>feature_09</th><th>feature_10</th><th>feature_11</th><th>feature_12</th><th>feature_13</th><th>feature_14</th><th>feature_15</th><th>feature_16</th><th>feature_17</th><th>feature_18</th><th>feature_19</th><th>feature_20</th><th>feature_21</th><th>feature_22</th><th>feature_23</th><th>feature_24</th><th>feature_25</th><th>feature_26</th><th>feature_27</th><th>feature_28</th><th>feature_29</th><th>feature_30</th><th>feature_31</th><th>feature_32</th><th>&hellip;</th><th>feature_52</th><th>feature_53</th><th>feature_54</th><th>feature_55</th><th>feature_56</th><th>feature_57</th><th>feature_58</th><th>feature_59</th><th>feature_60</th><th>feature_61</th><th>feature_62</th><th>feature_63</th><th>feature_64</th><th>feature_65</th><th>feature_66</th><th>feature_67</th><th>feature_68</th><th>feature_69</th><th>feature_70</th><th>feature_71</th><th>feature_72</th><th>feature_73</th><th>feature_74</th><th>feature_75</th><th>feature_76</th><th>feature_77</th><th>feature_78</th><th>responder_0</th><th>responder_1</th><th>responder_2</th><th>responder_3</th><th>responder_4</th><th>responder_5</th><th>responder_6</th><th>responder_7</th><th>responder_8</th><th>partition_id</th></tr><tr><td>u32</td><td>u32</td><td>u32</td><td>u32</td><td>u32</td><td>u32</td><td>u32</td><td>u32</td><td>u32</td><td>u32</td><td>u32</td><td>u32</td><td>u32</td><td>u32</td><td>u32</td><td>u32</td><td>u32</td><td>u32</td><td>u32</td><td>u32</td><td>u32</td><td>u32</td><td>u32</td><td>u32</td><td>u32</td><td>u32</td><td>u32</td><td>u32</td><td>u32</td><td>u32</td><td>u32</td><td>u32</td><td>u32</td><td>u32</td><td>u32</td><td>u32</td><td>u32</td><td>&hellip;</td><td>u32</td><td>u32</td><td>u32</td><td>u32</td><td>u32</td><td>u32</td><td>u32</td><td>u32</td><td>u32</td><td>u32</td><td>u32</td><td>u32</td><td>u32</td><td>u32</td><td>u32</td><td>u32</td><td>u32</td><td>u32</td><td>u32</td><td>u32</td><td>u32</td><td>u32</td><td>u32</td><td>u32</td><td>u32</td><td>u32</td><td>u32</td><td>u32</td><td>u32</td><td>u32</td><td>u32</td><td>u32</td><td>u32</td><td>u32</td><td>u32</td><td>u32</td><td>u32</td></tr></thead><tbody><tr><td>47127338</td><td>47127338</td><td>47127338</td><td>47127338</td><td>43945286</td><td>43945286</td><td>43945286</td><td>43945286</td><td>43945286</td><td>47127338</td><td>47127338</td><td>47127338</td><td>46827091</td><td>47127338</td><td>47127338</td><td>47127338</td><td>47127338</td><td>47127338</td><td>47127338</td><td>45918039</td><td>47127077</td><td>46925500</td><td>47127112</td><td>47127112</td><td>47127338</td><td>38691353</td><td>47127338</td><td>47127338</td><td>47127338</td><td>47127338</td><td>38691353</td><td>38691353</td><td>47127338</td><td>47127338</td><td>47127338</td><td>38691353</td><td>46648881</td><td>&hellip;</td><td>46082440</td><td>42873240</td><td>47113533</td><td>46082440</td><td>47127112</td><td>47127112</td><td>46648886</td><td>47127338</td><td>47127338</td><td>47127338</td><td>46834511</td><td>46899772</td><td>46889675</td><td>46810175</td><td>46810175</td><td>47127338</td><td>47127338</td><td>47127338</td><td>47127338</td><td>47127338</td><td>47127338</td><td>46643579</td><td>46643579</td><td>47068908</td><td>47068908</td><td>47107295</td><td>47107295</td><td>47127338</td><td>47127338</td><td>47127338</td><td>47127338</td><td>47127338</td><td>47127338</td><td>47127338</td><td>47127338</td><td>47127338</td><td>47127338</td></tr></tbody></table></div>"
      ]
     },
     "execution_count": 4,
     "metadata": {},
     "output_type": "execute_result"
    }
   ],
   "execution_count": 4
  },
  {
   "metadata": {},
   "cell_type": "code",
   "outputs": [],
   "execution_count": null,
   "source": "",
   "id": "b0220e64a56901b0"
  }
 ],
 "metadata": {
  "kernelspec": {
   "display_name": "Python 3",
   "language": "python",
   "name": "python3"
  },
  "language_info": {
   "codemirror_mode": {
    "name": "ipython",
    "version": 2
   },
   "file_extension": ".py",
   "mimetype": "text/x-python",
   "name": "python",
   "nbconvert_exporter": "python",
   "pygments_lexer": "ipython2",
   "version": "2.7.6"
  }
 },
 "nbformat": 4,
 "nbformat_minor": 5
}
