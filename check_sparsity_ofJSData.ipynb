{
 "cells": [
  {
   "cell_type": "code",
   "id": "initial_id",
   "metadata": {
    "collapsed": true,
    "ExecuteTime": {
     "end_time": "2024-12-06T09:49:23.500464Z",
     "start_time": "2024-12-06T09:49:23.381686Z"
    }
   },
   "source": "import polars as pl",
   "outputs": [],
   "execution_count": 1
  },
  {
   "metadata": {
    "ExecuteTime": {
     "end_time": "2024-12-06T10:02:24.003772Z",
     "start_time": "2024-12-06T10:00:58.131793Z"
    }
   },
   "cell_type": "code",
   "source": [
    "%%timeit\n",
    "def quick_sparsity_check(data_path: str):\n",
    "    # Scan all partitions\n",
    "    lf = pl.scan_parquet(data_path)\n",
    "\n",
    "    # Get feature columns\n",
    "    feature_cols = [col for col in lf.columns if col.startswith('feature_')]\n",
    "\n",
    "    # Simple sparsity check - just get null counts for features\n",
    "    null_stats = (lf\n",
    "                 .select([\n",
    "                     pl.col(col).null_count() for col in feature_cols\n",
    "                 ])\n",
    "                 .collect()\n",
    "                 .row(0))\n",
    "\n",
    "    total_rows = lf.select(pl.len()).collect().item()\n",
    "    print(total_rows)\n",
    "    overall_sparsity = sum(null_stats) / (len(feature_cols) * total_rows)\n",
    "\n",
    "    print(f\"Overall sparsity: {overall_sparsity:.2%}\")\n",
    "\n",
    "    # Show most sparse features\n",
    "    sparsity_per_col = {\n",
    "        col: nulls/total_rows\n",
    "        for col, nulls in zip(feature_cols, null_stats)\n",
    "    }\n",
    "\n",
    "    print(\"\\nTop 5 most sparse features:\")\n",
    "    for col, sparsity in sorted(sparsity_per_col.items(), key=lambda x: x[1], reverse=True)[:5]:\n",
    "        print(f\"{col}: {sparsity:.2%}\")\n",
    "\n",
    "# Use it\n",
    "quick_sparsity_check(\"~/Interning/Kaggle/jane_street_kaggle/jane-street-real-time-market-data-forecasting/train.parquet/\")"
   ],
   "id": "5853a35d9a0b16f8",
   "outputs": [
    {
     "name": "stderr",
     "output_type": "stream",
     "text": [
      "<magic-timeit>:6: PerformanceWarning: Determining the column names of a LazyFrame requires resolving its schema, which is a potentially expensive operation. Use `LazyFrame.collect_schema().names()` to get the column names without this warning.\n"
     ]
    },
    {
     "name": "stdout",
     "output_type": "stream",
     "text": [
      "47127338\n",
      "Overall sparsity: 2.08%\n",
      "\n",
      "Top 5 most sparse features:\n",
      "feature_21: 17.90%\n",
      "feature_26: 17.90%\n",
      "feature_27: 17.90%\n",
      "feature_31: 17.90%\n",
      "feature_39: 9.13%\n",
      "47127338\n",
      "Overall sparsity: 2.08%\n",
      "\n",
      "Top 5 most sparse features:\n",
      "feature_21: 17.90%\n",
      "feature_26: 17.90%\n",
      "feature_27: 17.90%\n",
      "feature_31: 17.90%\n",
      "feature_39: 9.13%\n"
     ]
    },
    {
     "ename": "KeyboardInterrupt",
     "evalue": "",
     "output_type": "error",
     "traceback": [
      "\u001B[0;31m---------------------------------------------------------------------------\u001B[0m",
      "\u001B[0;31mKeyboardInterrupt\u001B[0m                         Traceback (most recent call last)",
      "Cell \u001B[0;32mIn[4], line 1\u001B[0m\n\u001B[0;32m----> 1\u001B[0m \u001B[43mget_ipython\u001B[49m\u001B[43m(\u001B[49m\u001B[43m)\u001B[49m\u001B[38;5;241;43m.\u001B[39;49m\u001B[43mrun_cell_magic\u001B[49m\u001B[43m(\u001B[49m\u001B[38;5;124;43m'\u001B[39;49m\u001B[38;5;124;43mtimeit\u001B[39;49m\u001B[38;5;124;43m'\u001B[39;49m\u001B[43m,\u001B[49m\u001B[43m \u001B[49m\u001B[38;5;124;43m'\u001B[39;49m\u001B[38;5;124;43m'\u001B[39;49m\u001B[43m,\u001B[49m\u001B[43m \u001B[49m\u001B[38;5;124;43m'\u001B[39;49m\u001B[38;5;124;43mdef quick_sparsity_check(data_path: str):\u001B[39;49m\u001B[38;5;130;43;01m\\n\u001B[39;49;00m\u001B[38;5;124;43m    # Scan all partitions\u001B[39;49m\u001B[38;5;130;43;01m\\n\u001B[39;49;00m\u001B[38;5;124;43m    lf = pl.scan_parquet(data_path)\u001B[39;49m\u001B[38;5;130;43;01m\\n\u001B[39;49;00m\u001B[38;5;130;43;01m\\n\u001B[39;49;00m\u001B[38;5;124;43m    # Get feature columns\u001B[39;49m\u001B[38;5;130;43;01m\\n\u001B[39;49;00m\u001B[38;5;124;43m    feature_cols = [col for col in lf.columns if col.startswith(\u001B[39;49m\u001B[38;5;130;43;01m\\'\u001B[39;49;00m\u001B[38;5;124;43mfeature_\u001B[39;49m\u001B[38;5;130;43;01m\\'\u001B[39;49;00m\u001B[38;5;124;43m)]\u001B[39;49m\u001B[38;5;130;43;01m\\n\u001B[39;49;00m\u001B[38;5;130;43;01m\\n\u001B[39;49;00m\u001B[38;5;124;43m    # Simple sparsity check - just get null counts for features\u001B[39;49m\u001B[38;5;130;43;01m\\n\u001B[39;49;00m\u001B[38;5;124;43m    null_stats = (lf\u001B[39;49m\u001B[38;5;130;43;01m\\n\u001B[39;49;00m\u001B[38;5;124;43m                 .select([\u001B[39;49m\u001B[38;5;130;43;01m\\n\u001B[39;49;00m\u001B[38;5;124;43m                     pl.col(col).null_count() for col in feature_cols\u001B[39;49m\u001B[38;5;130;43;01m\\n\u001B[39;49;00m\u001B[38;5;124;43m                 ])\u001B[39;49m\u001B[38;5;130;43;01m\\n\u001B[39;49;00m\u001B[38;5;124;43m                 .collect()\u001B[39;49m\u001B[38;5;130;43;01m\\n\u001B[39;49;00m\u001B[38;5;124;43m                 .row(0))\u001B[39;49m\u001B[38;5;130;43;01m\\n\u001B[39;49;00m\u001B[38;5;130;43;01m\\n\u001B[39;49;00m\u001B[38;5;124;43m    total_rows = lf.select(pl.len()).collect().item()\u001B[39;49m\u001B[38;5;130;43;01m\\n\u001B[39;49;00m\u001B[38;5;124;43m    print(total_rows)\u001B[39;49m\u001B[38;5;130;43;01m\\n\u001B[39;49;00m\u001B[38;5;124;43m    overall_sparsity = sum(null_stats) / (len(feature_cols) * total_rows)\u001B[39;49m\u001B[38;5;130;43;01m\\n\u001B[39;49;00m\u001B[38;5;130;43;01m\\n\u001B[39;49;00m\u001B[38;5;124;43m    print(f\u001B[39;49m\u001B[38;5;124;43m\"\u001B[39;49m\u001B[38;5;124;43mOverall sparsity: \u001B[39;49m\u001B[38;5;132;43;01m{overall_sparsity:.2%}\u001B[39;49;00m\u001B[38;5;124;43m\"\u001B[39;49m\u001B[38;5;124;43m)\u001B[39;49m\u001B[38;5;130;43;01m\\n\u001B[39;49;00m\u001B[38;5;130;43;01m\\n\u001B[39;49;00m\u001B[38;5;124;43m    # Show most sparse features\u001B[39;49m\u001B[38;5;130;43;01m\\n\u001B[39;49;00m\u001B[38;5;124;43m    sparsity_per_col = \u001B[39;49m\u001B[38;5;124;43m{\u001B[39;49m\u001B[38;5;130;43;01m\\n\u001B[39;49;00m\u001B[38;5;124;43m        col: nulls/total_rows\u001B[39;49m\u001B[38;5;130;43;01m\\n\u001B[39;49;00m\u001B[38;5;124;43m        for col, nulls in zip(feature_cols, null_stats)\u001B[39;49m\u001B[38;5;130;43;01m\\n\u001B[39;49;00m\u001B[38;5;124;43m    }\u001B[39;49m\u001B[38;5;130;43;01m\\n\u001B[39;49;00m\u001B[38;5;130;43;01m\\n\u001B[39;49;00m\u001B[38;5;124;43m    print(\u001B[39;49m\u001B[38;5;124;43m\"\u001B[39;49m\u001B[38;5;130;43;01m\\\\\u001B[39;49;00m\u001B[38;5;124;43mnTop 5 most sparse features:\u001B[39;49m\u001B[38;5;124;43m\"\u001B[39;49m\u001B[38;5;124;43m)\u001B[39;49m\u001B[38;5;130;43;01m\\n\u001B[39;49;00m\u001B[38;5;124;43m    for col, sparsity in sorted(sparsity_per_col.items(), key=lambda x: x[1], reverse=True)[:5]:\u001B[39;49m\u001B[38;5;130;43;01m\\n\u001B[39;49;00m\u001B[38;5;124;43m        print(f\u001B[39;49m\u001B[38;5;124;43m\"\u001B[39;49m\u001B[38;5;132;43;01m{col}\u001B[39;49;00m\u001B[38;5;124;43m: \u001B[39;49m\u001B[38;5;132;43;01m{sparsity:.2%}\u001B[39;49;00m\u001B[38;5;124;43m\"\u001B[39;49m\u001B[38;5;124;43m)\u001B[39;49m\u001B[38;5;130;43;01m\\n\u001B[39;49;00m\u001B[38;5;130;43;01m\\n\u001B[39;49;00m\u001B[38;5;124;43m# Use it\u001B[39;49m\u001B[38;5;130;43;01m\\n\u001B[39;49;00m\u001B[38;5;124;43mquick_sparsity_check(\u001B[39;49m\u001B[38;5;124;43m\"\u001B[39;49m\u001B[38;5;124;43m~/Interning/Kaggle/jane_street_kaggle/jane-street-real-time-market-data-forecasting/train.parquet/\u001B[39;49m\u001B[38;5;124;43m\"\u001B[39;49m\u001B[38;5;124;43m)\u001B[39;49m\u001B[38;5;130;43;01m\\n\u001B[39;49;00m\u001B[38;5;124;43m'\u001B[39;49m\u001B[43m)\u001B[49m\n",
      "File \u001B[0;32m~/anaconda3/envs/homl3/lib/python3.10/site-packages/IPython/core/interactiveshell.py:2515\u001B[0m, in \u001B[0;36mInteractiveShell.run_cell_magic\u001B[0;34m(self, magic_name, line, cell)\u001B[0m\n\u001B[1;32m   2513\u001B[0m \u001B[38;5;28;01mwith\u001B[39;00m \u001B[38;5;28mself\u001B[39m\u001B[38;5;241m.\u001B[39mbuiltin_trap:\n\u001B[1;32m   2514\u001B[0m     args \u001B[38;5;241m=\u001B[39m (magic_arg_s, cell)\n\u001B[0;32m-> 2515\u001B[0m     result \u001B[38;5;241m=\u001B[39m \u001B[43mfn\u001B[49m\u001B[43m(\u001B[49m\u001B[38;5;241;43m*\u001B[39;49m\u001B[43margs\u001B[49m\u001B[43m,\u001B[49m\u001B[43m \u001B[49m\u001B[38;5;241;43m*\u001B[39;49m\u001B[38;5;241;43m*\u001B[39;49m\u001B[43mkwargs\u001B[49m\u001B[43m)\u001B[49m\n\u001B[1;32m   2517\u001B[0m \u001B[38;5;66;03m# The code below prevents the output from being displayed\u001B[39;00m\n\u001B[1;32m   2518\u001B[0m \u001B[38;5;66;03m# when using magics with decorator @output_can_be_silenced\u001B[39;00m\n\u001B[1;32m   2519\u001B[0m \u001B[38;5;66;03m# when the last Python token in the expression is a ';'.\u001B[39;00m\n\u001B[1;32m   2520\u001B[0m \u001B[38;5;28;01mif\u001B[39;00m \u001B[38;5;28mgetattr\u001B[39m(fn, magic\u001B[38;5;241m.\u001B[39mMAGIC_OUTPUT_CAN_BE_SILENCED, \u001B[38;5;28;01mFalse\u001B[39;00m):\n",
      "File \u001B[0;32m~/anaconda3/envs/homl3/lib/python3.10/site-packages/IPython/core/magics/execution.py:1189\u001B[0m, in \u001B[0;36mExecutionMagics.timeit\u001B[0;34m(self, line, cell, local_ns)\u001B[0m\n\u001B[1;32m   1186\u001B[0m         \u001B[38;5;28;01mif\u001B[39;00m time_number \u001B[38;5;241m>\u001B[39m\u001B[38;5;241m=\u001B[39m \u001B[38;5;241m0.2\u001B[39m:\n\u001B[1;32m   1187\u001B[0m             \u001B[38;5;28;01mbreak\u001B[39;00m\n\u001B[0;32m-> 1189\u001B[0m all_runs \u001B[38;5;241m=\u001B[39m \u001B[43mtimer\u001B[49m\u001B[38;5;241;43m.\u001B[39;49m\u001B[43mrepeat\u001B[49m\u001B[43m(\u001B[49m\u001B[43mrepeat\u001B[49m\u001B[43m,\u001B[49m\u001B[43m \u001B[49m\u001B[43mnumber\u001B[49m\u001B[43m)\u001B[49m\n\u001B[1;32m   1190\u001B[0m best \u001B[38;5;241m=\u001B[39m \u001B[38;5;28mmin\u001B[39m(all_runs) \u001B[38;5;241m/\u001B[39m number\n\u001B[1;32m   1191\u001B[0m worst \u001B[38;5;241m=\u001B[39m \u001B[38;5;28mmax\u001B[39m(all_runs) \u001B[38;5;241m/\u001B[39m number\n",
      "File \u001B[0;32m~/anaconda3/envs/homl3/lib/python3.10/timeit.py:206\u001B[0m, in \u001B[0;36mTimer.repeat\u001B[0;34m(self, repeat, number)\u001B[0m\n\u001B[1;32m    204\u001B[0m r \u001B[38;5;241m=\u001B[39m []\n\u001B[1;32m    205\u001B[0m \u001B[38;5;28;01mfor\u001B[39;00m i \u001B[38;5;129;01min\u001B[39;00m \u001B[38;5;28mrange\u001B[39m(repeat):\n\u001B[0;32m--> 206\u001B[0m     t \u001B[38;5;241m=\u001B[39m \u001B[38;5;28;43mself\u001B[39;49m\u001B[38;5;241;43m.\u001B[39;49m\u001B[43mtimeit\u001B[49m\u001B[43m(\u001B[49m\u001B[43mnumber\u001B[49m\u001B[43m)\u001B[49m\n\u001B[1;32m    207\u001B[0m     r\u001B[38;5;241m.\u001B[39mappend(t)\n\u001B[1;32m    208\u001B[0m \u001B[38;5;28;01mreturn\u001B[39;00m r\n",
      "File \u001B[0;32m~/anaconda3/envs/homl3/lib/python3.10/site-packages/IPython/core/magics/execution.py:173\u001B[0m, in \u001B[0;36mTimer.timeit\u001B[0;34m(self, number)\u001B[0m\n\u001B[1;32m    171\u001B[0m gc\u001B[38;5;241m.\u001B[39mdisable()\n\u001B[1;32m    172\u001B[0m \u001B[38;5;28;01mtry\u001B[39;00m:\n\u001B[0;32m--> 173\u001B[0m     timing \u001B[38;5;241m=\u001B[39m \u001B[38;5;28;43mself\u001B[39;49m\u001B[38;5;241;43m.\u001B[39;49m\u001B[43minner\u001B[49m\u001B[43m(\u001B[49m\u001B[43mit\u001B[49m\u001B[43m,\u001B[49m\u001B[43m \u001B[49m\u001B[38;5;28;43mself\u001B[39;49m\u001B[38;5;241;43m.\u001B[39;49m\u001B[43mtimer\u001B[49m\u001B[43m)\u001B[49m\n\u001B[1;32m    174\u001B[0m \u001B[38;5;28;01mfinally\u001B[39;00m:\n\u001B[1;32m    175\u001B[0m     \u001B[38;5;28;01mif\u001B[39;00m gcold:\n",
      "File \u001B[0;32m<magic-timeit>:33\u001B[0m, in \u001B[0;36minner\u001B[0;34m(_it, _timer)\u001B[0m\n",
      "File \u001B[0;32m<magic-timeit>:13\u001B[0m, in \u001B[0;36mquick_sparsity_check\u001B[0;34m(data_path)\u001B[0m\n",
      "File \u001B[0;32m~/anaconda3/envs/homl3/lib/python3.10/site-packages/polars/lazyframe/frame.py:2055\u001B[0m, in \u001B[0;36mLazyFrame.collect\u001B[0;34m(self, type_coercion, predicate_pushdown, projection_pushdown, simplify_expression, slice_pushdown, comm_subplan_elim, comm_subexpr_elim, cluster_with_columns, collapse_joins, no_optimization, streaming, engine, background, _eager, **_kwargs)\u001B[0m\n\u001B[1;32m   2053\u001B[0m \u001B[38;5;66;03m# Only for testing purposes\u001B[39;00m\n\u001B[1;32m   2054\u001B[0m callback \u001B[38;5;241m=\u001B[39m _kwargs\u001B[38;5;241m.\u001B[39mget(\u001B[38;5;124m\"\u001B[39m\u001B[38;5;124mpost_opt_callback\u001B[39m\u001B[38;5;124m\"\u001B[39m, callback)\n\u001B[0;32m-> 2055\u001B[0m \u001B[38;5;28;01mreturn\u001B[39;00m wrap_df(\u001B[43mldf\u001B[49m\u001B[38;5;241;43m.\u001B[39;49m\u001B[43mcollect\u001B[49m\u001B[43m(\u001B[49m\u001B[43mcallback\u001B[49m\u001B[43m)\u001B[49m)\n",
      "\u001B[0;31mKeyboardInterrupt\u001B[0m: "
     ]
    }
   ],
   "execution_count": 4
  },
  {
   "metadata": {},
   "cell_type": "code",
   "outputs": [],
   "execution_count": null,
   "source": "print(\"hello world@!\")",
   "id": "134d417c4e626c24"
  },
  {
   "metadata": {
    "ExecuteTime": {
     "end_time": "2024-12-06T10:06:06.965658Z",
     "start_time": "2024-12-06T10:06:06.945415Z"
    }
   },
   "cell_type": "code",
   "source": "lf = pl.scan_parquet(\"~/Interning/Kaggle/jane_street_kaggle/jane-street-real-time-market-data-forecasting/train.parquet/\")",
   "id": "36535777a587ee8c",
   "outputs": [],
   "execution_count": 5
  },
  {
   "metadata": {
    "ExecuteTime": {
     "end_time": "2024-12-06T10:07:29.815849Z",
     "start_time": "2024-12-06T10:07:29.805242Z"
    }
   },
   "cell_type": "code",
   "source": "col_names = lf.collect_schema().names()",
   "id": "c983562333fbb7ef",
   "outputs": [],
   "execution_count": 7
  },
  {
   "metadata": {
    "ExecuteTime": {
     "end_time": "2024-12-06T10:12:30.381545Z",
     "start_time": "2024-12-06T10:11:52.460001Z"
    }
   },
   "cell_type": "code",
   "source": [
    "feature_cols = [col for col in lf.columns if col.startswith('feature_')]\n",
    "\n",
    "# Simple sparsity check - just get null counts for features\n",
    "null_stats = (lf\n",
    "                 .select([\n",
    "                     pl.col(col).null_count() for col in feature_cols\n",
    "                 ])\n",
    "                 .collect()\n",
    "                 .row(0))"
   ],
   "id": "9a1a1a87c16688cc",
   "outputs": [
    {
     "name": "stderr",
     "output_type": "stream",
     "text": [
      "/var/folders/f9/q60hmfgd2lx3_mpq6kwg9_980000gn/T/ipykernel_52681/618557612.py:1: PerformanceWarning: Determining the column names of a LazyFrame requires resolving its schema, which is a potentially expensive operation. Use `LazyFrame.collect_schema().names()` to get the column names without this warning.\n",
      "  feature_cols = [col for col in lf.columns if col.startswith('feature_')]\n"
     ]
    }
   ],
   "execution_count": null
  },
  {
   "metadata": {
    "ExecuteTime": {
     "end_time": "2024-12-06T10:11:23.528469Z",
     "start_time": "2024-12-06T10:11:23.517452Z"
    }
   },
   "cell_type": "code",
   "source": "feature_cols",
   "id": "9b84398d79a48281",
   "outputs": [
    {
     "data": {
      "text/plain": [
       "[<Expr ['col(\"feature_00\").null_count()'] at 0x3C4A2DCF0>,\n",
       " <Expr ['col(\"feature_01\").null_count()'] at 0x3C4A2DB70>,\n",
       " <Expr ['col(\"feature_02\").null_count()'] at 0x3C4A2DB40>,\n",
       " <Expr ['col(\"feature_03\").null_count()'] at 0x3C4A2DC90>,\n",
       " <Expr ['col(\"feature_04\").null_count()'] at 0x3C4A2DD20>,\n",
       " <Expr ['col(\"feature_05\").null_count()'] at 0x3C4A2DC30>,\n",
       " <Expr ['col(\"feature_06\").null_count()'] at 0x3C4A2D480>,\n",
       " <Expr ['col(\"feature_07\").null_count()'] at 0x3C4A2DBD0>,\n",
       " <Expr ['col(\"feature_08\").null_count()'] at 0x3C4A2DE10>,\n",
       " <Expr ['col(\"feature_09\").null_count()'] at 0x3C4A2DB10>,\n",
       " <Expr ['col(\"feature_10\").null_count()'] at 0x3C4A2DA80>,\n",
       " <Expr ['col(\"feature_11\").null_count()'] at 0x3C4A2D990>,\n",
       " <Expr ['col(\"feature_12\").null_count()'] at 0x3C4A2D930>,\n",
       " <Expr ['col(\"feature_13\").null_count()'] at 0x3C4A2DA20>,\n",
       " <Expr ['col(\"feature_14\").null_count()'] at 0x3C4A2D9C0>,\n",
       " <Expr ['col(\"feature_15\").null_count()'] at 0x3C4A2D8A0>,\n",
       " <Expr ['col(\"feature_16\").null_count()'] at 0x3C4A2D600>,\n",
       " <Expr ['col(\"feature_17\").null_count()'] at 0x3C4A2D630>,\n",
       " <Expr ['col(\"feature_18\").null_count()'] at 0x3C4A2D5A0>,\n",
       " <Expr ['col(\"feature_19\").null_count()'] at 0x3C4A2D540>,\n",
       " <Expr ['col(\"feature_20\").null_count()'] at 0x3C4A2D510>,\n",
       " <Expr ['col(\"feature_21\").null_count()'] at 0x3C4A2D6F0>,\n",
       " <Expr ['col(\"feature_22\").null_count()'] at 0x3C4A2C8B0>,\n",
       " <Expr ['col(\"feature_23\").null_count()'] at 0x3C4A2CCD0>,\n",
       " <Expr ['col(\"feature_24\").null_count()'] at 0x3C4A2CD30>,\n",
       " <Expr ['col(\"feature_25\").null_count()'] at 0x3C4A2CD90>,\n",
       " <Expr ['col(\"feature_26\").null_count()'] at 0x3C4A2CDF0>,\n",
       " <Expr ['col(\"feature_27\").null_count()'] at 0x3C4A2D030>,\n",
       " <Expr ['col(\"feature_28\").null_count()'] at 0x3C4A2CFD0>,\n",
       " <Expr ['col(\"feature_29\").null_count()'] at 0x3C4A2CE80>,\n",
       " <Expr ['col(\"feature_30\").null_count()'] at 0x3C4A2CE20>,\n",
       " <Expr ['col(\"feature_31\").null_count()'] at 0x3C4A2C7C0>,\n",
       " <Expr ['col(\"feature_32\").null_count()'] at 0x3C4A2C760>,\n",
       " <Expr ['col(\"feature_33\").null_count()'] at 0x3C4A2DF30>,\n",
       " <Expr ['col(\"feature_34\").null_count()'] at 0x3C4A2DF90>,\n",
       " <Expr ['col(\"feature_35\").null_count()'] at 0x3C4A2D420>,\n",
       " <Expr ['col(\"feature_36\").null_count()'] at 0x3C4A2D3C0>,\n",
       " <Expr ['col(\"feature_37\").null_count()'] at 0x3C4A2D360>,\n",
       " <Expr ['col(\"feature_38\").null_count()'] at 0x3C4A2D300>,\n",
       " <Expr ['col(\"feature_39\").null_count()'] at 0x3C4A2D2A0>,\n",
       " <Expr ['col(\"feature_40\").null_count()'] at 0x3C4A2D240>,\n",
       " <Expr ['col(\"feature_41\").null_count()'] at 0x3C4A2D1E0>,\n",
       " <Expr ['col(\"feature_42\").null_count()'] at 0x3C4A2D180>,\n",
       " <Expr ['col(\"feature_43\").null_count()'] at 0x3C4A2D120>,\n",
       " <Expr ['col(\"feature_44\").null_count()'] at 0x3C4A2D0C0>,\n",
       " <Expr ['col(\"feature_45\").null_count()'] at 0x3C4A2CCA0>,\n",
       " <Expr ['col(\"feature_46\").null_count()'] at 0x3C4A2CC40>,\n",
       " <Expr ['col(\"feature_47\").null_count()'] at 0x3C4A2CBE0>,\n",
       " <Expr ['col(\"feature_48\").null_count()'] at 0x3C4A2CB80>,\n",
       " <Expr ['col(\"feature_49\").null_count()'] at 0x3C4A2CB20>,\n",
       " <Expr ['col(\"feature_50\").null_count()'] at 0x3C4A2CAC0>,\n",
       " <Expr ['col(\"feature_51\").null_count()'] at 0x3C4A2CA60>,\n",
       " <Expr ['col(\"feature_52\").null_count()'] at 0x3C4A2CA00>,\n",
       " <Expr ['col(\"feature_53\").null_count()'] at 0x3C4A2C9A0>,\n",
       " <Expr ['col(\"feature_54\").null_count()'] at 0x3C4A2C940>,\n",
       " <Expr ['col(\"feature_55\").null_count()'] at 0x3C4A2C8E0>,\n",
       " <Expr ['col(\"feature_56\").null_count()'] at 0x3C4A2DED0>,\n",
       " <Expr ['col(\"feature_57\").null_count()'] at 0x3C4A2DE70>,\n",
       " <Expr ['col(\"feature_58\").null_count()'] at 0x3C4A2C670>,\n",
       " <Expr ['col(\"feature_59\").null_count()'] at 0x3C4A2C6D0>,\n",
       " <Expr ['col(\"feature_60\").null_count()'] at 0x3C4A2C820>,\n",
       " <Expr ['col(\"feature_61\").null_count()'] at 0x3C4A2D750>,\n",
       " <Expr ['col(\"feature_62\").null_count()'] at 0x3C4A2D7B0>,\n",
       " <Expr ['col(\"feature_63\").null_count()'] at 0x3C4A2D810>,\n",
       " <Expr ['col(\"feature_64\").null_count()'] at 0x3C4A2D870>,\n",
       " <Expr ['col(\"feature_65\").null_count()'] at 0x3C4A2CF70>,\n",
       " <Expr ['col(\"feature_66\").null_count()'] at 0x3C4A2CF10>,\n",
       " <Expr ['col(\"feature_67\").null_count()'] at 0x3C4A2DFC0>,\n",
       " <Expr ['col(\"feature_68\").null_count()'] at 0x3C4A2E020>,\n",
       " <Expr ['col(\"feature_69\").null_count()'] at 0x3C4A2E080>,\n",
       " <Expr ['col(\"feature_70\").null_count()'] at 0x3C4A2E0E0>,\n",
       " <Expr ['col(\"feature_71\").null_count()'] at 0x3C4A2E140>,\n",
       " <Expr ['col(\"feature_72\").null_count()'] at 0x3C4A2E1A0>,\n",
       " <Expr ['col(\"feature_73\").null_count()'] at 0x3C4A2E200>,\n",
       " <Expr ['col(\"feature_74\").null_count()'] at 0x3C4A2E260>,\n",
       " <Expr ['col(\"feature_75\").null_count()'] at 0x3C4A2E2C0>,\n",
       " <Expr ['col(\"feature_76\").null_count()'] at 0x3C4A2E320>,\n",
       " <Expr ['col(\"feature_77\").null_count()'] at 0x3C4A2E380>,\n",
       " <Expr ['col(\"feature_78\").null_count()'] at 0x3C4A2E3E0>]"
      ]
     },
     "execution_count": 13,
     "metadata": {},
     "output_type": "execute_result"
    }
   ],
   "execution_count": 13
  }
 ],
 "metadata": {
  "kernelspec": {
   "display_name": "Python 3",
   "language": "python",
   "name": "python3"
  },
  "language_info": {
   "codemirror_mode": {
    "name": "ipython",
    "version": 2
   },
   "file_extension": ".py",
   "mimetype": "text/x-python",
   "name": "python",
   "nbconvert_exporter": "python",
   "pygments_lexer": "ipython2",
   "version": "2.7.6"
  }
 },
 "nbformat": 4,
 "nbformat_minor": 5
}
