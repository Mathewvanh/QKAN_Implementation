{
 "cells": [
  {
   "cell_type": "code",
   "id": "initial_id",
   "metadata": {
    "collapsed": true,
    "ExecuteTime": {
     "end_time": "2024-12-17T06:02:40.078972Z",
     "start_time": "2024-12-17T06:02:39.934709Z"
    }
   },
   "source": "import polars as pl",
   "outputs": [],
   "execution_count": 2
  },
  {
   "metadata": {
    "ExecuteTime": {
     "end_time": "2024-12-17T06:02:41.244711Z",
     "start_time": "2024-12-17T06:02:41.237003Z"
    }
   },
   "cell_type": "code",
   "source": "lf = pl.scan_parquet('~/Interning/Kaggle/jane_street_kaggle/jane-street-real-time-market-data-forecasting/train.parquet/').fill_null(3)",
   "id": "c89eea24a42426c3",
   "outputs": [],
   "execution_count": 3
  },
  {
   "metadata": {
    "ExecuteTime": {
     "end_time": "2024-12-13T13:47:54.924612Z",
     "start_time": "2024-12-13T13:47:54.918753Z"
    }
   },
   "cell_type": "code",
   "source": "schema = lf.collect_schema()",
   "id": "1b62e5e33ee09a35",
   "outputs": [],
   "execution_count": 15
  },
  {
   "metadata": {
    "ExecuteTime": {
     "end_time": "2024-12-13T13:47:56.042334Z",
     "start_time": "2024-12-13T13:47:56.035411Z"
    }
   },
   "cell_type": "code",
   "source": "schema",
   "id": "3f19de7a7f6a73f2",
   "outputs": [
    {
     "data": {
      "text/plain": [
       "Schema([('date_id', Int16),\n",
       "        ('time_id', Int16),\n",
       "        ('symbol_id', Int8),\n",
       "        ('weight', Float32),\n",
       "        ('feature_00', Float32),\n",
       "        ('feature_01', Float32),\n",
       "        ('feature_02', Float32),\n",
       "        ('feature_03', Float32),\n",
       "        ('feature_04', Float32),\n",
       "        ('feature_05', Float32),\n",
       "        ('feature_06', Float32),\n",
       "        ('feature_07', Float32),\n",
       "        ('feature_08', Float32),\n",
       "        ('feature_09', Int8),\n",
       "        ('feature_10', Int8),\n",
       "        ('feature_11', Int16),\n",
       "        ('feature_12', Float32),\n",
       "        ('feature_13', Float32),\n",
       "        ('feature_14', Float32),\n",
       "        ('feature_15', Float32),\n",
       "        ('feature_16', Float32),\n",
       "        ('feature_17', Float32),\n",
       "        ('feature_18', Float32),\n",
       "        ('feature_19', Float32),\n",
       "        ('feature_20', Float32),\n",
       "        ('feature_21', Float32),\n",
       "        ('feature_22', Float32),\n",
       "        ('feature_23', Float32),\n",
       "        ('feature_24', Float32),\n",
       "        ('feature_25', Float32),\n",
       "        ('feature_26', Float32),\n",
       "        ('feature_27', Float32),\n",
       "        ('feature_28', Float32),\n",
       "        ('feature_29', Float32),\n",
       "        ('feature_30', Float32),\n",
       "        ('feature_31', Float32),\n",
       "        ('feature_32', Float32),\n",
       "        ('feature_33', Float32),\n",
       "        ('feature_34', Float32),\n",
       "        ('feature_35', Float32),\n",
       "        ('feature_36', Float32),\n",
       "        ('feature_37', Float32),\n",
       "        ('feature_38', Float32),\n",
       "        ('feature_39', Float32),\n",
       "        ('feature_40', Float32),\n",
       "        ('feature_41', Float32),\n",
       "        ('feature_42', Float32),\n",
       "        ('feature_43', Float32),\n",
       "        ('feature_44', Float32),\n",
       "        ('feature_45', Float32),\n",
       "        ('feature_46', Float32),\n",
       "        ('feature_47', Float32),\n",
       "        ('feature_48', Float32),\n",
       "        ('feature_49', Float32),\n",
       "        ('feature_50', Float32),\n",
       "        ('feature_51', Float32),\n",
       "        ('feature_52', Float32),\n",
       "        ('feature_53', Float32),\n",
       "        ('feature_54', Float32),\n",
       "        ('feature_55', Float32),\n",
       "        ('feature_56', Float32),\n",
       "        ('feature_57', Float32),\n",
       "        ('feature_58', Float32),\n",
       "        ('feature_59', Float32),\n",
       "        ('feature_60', Float32),\n",
       "        ('feature_61', Float32),\n",
       "        ('feature_62', Float32),\n",
       "        ('feature_63', Float32),\n",
       "        ('feature_64', Float32),\n",
       "        ('feature_65', Float32),\n",
       "        ('feature_66', Float32),\n",
       "        ('feature_67', Float32),\n",
       "        ('feature_68', Float32),\n",
       "        ('feature_69', Float32),\n",
       "        ('feature_70', Float32),\n",
       "        ('feature_71', Float32),\n",
       "        ('feature_72', Float32),\n",
       "        ('feature_73', Float32),\n",
       "        ('feature_74', Float32),\n",
       "        ('feature_75', Float32),\n",
       "        ('feature_76', Float32),\n",
       "        ('feature_77', Float32),\n",
       "        ('feature_78', Float32),\n",
       "        ('responder_0', Float32),\n",
       "        ('responder_1', Float32),\n",
       "        ('responder_2', Float32),\n",
       "        ('responder_3', Float32),\n",
       "        ('responder_4', Float32),\n",
       "        ('responder_5', Float32),\n",
       "        ('responder_6', Float32),\n",
       "        ('responder_7', Float32),\n",
       "        ('responder_8', Float32),\n",
       "        ('partition_id', Int64)])"
      ]
     },
     "execution_count": 16,
     "metadata": {},
     "output_type": "execute_result"
    }
   ],
   "execution_count": 16
  },
  {
   "metadata": {
    "ExecuteTime": {
     "end_time": "2024-12-13T13:43:22.330213Z",
     "start_time": "2024-12-13T13:43:22.327619Z"
    }
   },
   "cell_type": "code",
   "source": "assert 'date_id' in schema, \"Missing date_id column\"",
   "id": "7df0d59b61e861e4",
   "outputs": [],
   "execution_count": 5
  },
  {
   "metadata": {
    "ExecuteTime": {
     "end_time": "2024-12-13T13:40:37.349900Z",
     "start_time": "2024-12-13T13:40:37.319199Z"
    }
   },
   "cell_type": "code",
   "source": [
    "for i in range(79):\n",
    "    col_name = f'feature_{i:02d}'\n",
    "    assert col_name in schema, \"Missing {col_name} column\"\n",
    "    assert schema[col_name] == pl.Float32, f\"{type(col_name)} should be {pl.Float32}\""
   ],
   "id": "608d9f981c4c8810",
   "outputs": [
    {
     "ename": "AssertionError",
     "evalue": "<class 'str'> should be Float32",
     "output_type": "error",
     "traceback": [
      "\u001B[0;31m---------------------------------------------------------------------------\u001B[0m",
      "\u001B[0;31mAssertionError\u001B[0m                            Traceback (most recent call last)",
      "Cell \u001B[0;32mIn[7], line 4\u001B[0m\n\u001B[1;32m      2\u001B[0m col_name \u001B[38;5;241m=\u001B[39m \u001B[38;5;124mf\u001B[39m\u001B[38;5;124m'\u001B[39m\u001B[38;5;124mfeature_\u001B[39m\u001B[38;5;132;01m{\u001B[39;00mi\u001B[38;5;132;01m:\u001B[39;00m\u001B[38;5;124m02d\u001B[39m\u001B[38;5;132;01m}\u001B[39;00m\u001B[38;5;124m'\u001B[39m\n\u001B[1;32m      3\u001B[0m \u001B[38;5;28;01massert\u001B[39;00m col_name \u001B[38;5;129;01min\u001B[39;00m schema, \u001B[38;5;124m\"\u001B[39m\u001B[38;5;124mMissing \u001B[39m\u001B[38;5;132;01m{col_name}\u001B[39;00m\u001B[38;5;124m column\u001B[39m\u001B[38;5;124m\"\u001B[39m\n\u001B[0;32m----> 4\u001B[0m \u001B[38;5;28;01massert\u001B[39;00m schema[col_name] \u001B[38;5;241m==\u001B[39m pl\u001B[38;5;241m.\u001B[39mFloat32, \u001B[38;5;124mf\u001B[39m\u001B[38;5;124m\"\u001B[39m\u001B[38;5;132;01m{\u001B[39;00m\u001B[38;5;28mtype\u001B[39m(col_name)\u001B[38;5;132;01m}\u001B[39;00m\u001B[38;5;124m should be \u001B[39m\u001B[38;5;132;01m{\u001B[39;00mpl\u001B[38;5;241m.\u001B[39mFloat32\u001B[38;5;132;01m}\u001B[39;00m\u001B[38;5;124m\"\u001B[39m\n",
      "\u001B[0;31mAssertionError\u001B[0m: <class 'str'> should be Float32"
     ]
    }
   ],
   "execution_count": 7
  },
  {
   "metadata": {
    "ExecuteTime": {
     "end_time": "2024-12-17T06:06:55.129423Z",
     "start_time": "2024-12-17T06:06:55.123858Z"
    }
   },
   "cell_type": "code",
   "source": "feature_cols = [f\"feature_{i:02d}\" for i in range(79)]",
   "id": "20ad7bf220d19670",
   "outputs": [],
   "execution_count": 4
  },
  {
   "metadata": {
    "ExecuteTime": {
     "end_time": "2024-12-13T13:43:40.546805Z",
     "start_time": "2024-12-13T13:43:39.026848Z"
    }
   },
   "cell_type": "code",
   "source": "top_5 = lf.select([pl.col(col).quantile(.95) for col in feature_cols[:5]]).collect()",
   "id": "8759b52c3de8a598",
   "outputs": [],
   "execution_count": 7
  },
  {
   "metadata": {
    "ExecuteTime": {
     "end_time": "2024-12-13T13:43:55.029676Z",
     "start_time": "2024-12-13T13:43:55.024953Z"
    }
   },
   "cell_type": "code",
   "source": "top_5",
   "id": "f035d38bac9b8a53",
   "outputs": [
    {
     "data": {
      "text/plain": [
       "shape: (1, 5)\n",
       "┌────────────┬────────────┬────────────┬────────────┬────────────┐\n",
       "│ feature_00 ┆ feature_01 ┆ feature_02 ┆ feature_03 ┆ feature_04 │\n",
       "│ ---        ┆ ---        ┆ ---        ┆ ---        ┆ ---        │\n",
       "│ f32        ┆ f32        ┆ f32        ┆ f32        ┆ f32        │\n",
       "╞════════════╪════════════╪════════════╪════════════╪════════════╡\n",
       "│ 3.159119   ┆ 1.810017   ┆ 3.156065   ┆ 3.154454   ┆ 1.703309   │\n",
       "└────────────┴────────────┴────────────┴────────────┴────────────┘"
      ],
      "text/html": [
       "<div><style>\n",
       ".dataframe > thead > tr,\n",
       ".dataframe > tbody > tr {\n",
       "  text-align: right;\n",
       "  white-space: pre-wrap;\n",
       "}\n",
       "</style>\n",
       "<small>shape: (1, 5)</small><table border=\"1\" class=\"dataframe\"><thead><tr><th>feature_00</th><th>feature_01</th><th>feature_02</th><th>feature_03</th><th>feature_04</th></tr><tr><td>f32</td><td>f32</td><td>f32</td><td>f32</td><td>f32</td></tr></thead><tbody><tr><td>3.159119</td><td>1.810017</td><td>3.156065</td><td>3.154454</td><td>1.703309</td></tr></tbody></table></div>"
      ]
     },
     "execution_count": 8,
     "metadata": {},
     "output_type": "execute_result"
    }
   ],
   "execution_count": 8
  },
  {
   "metadata": {
    "ExecuteTime": {
     "end_time": "2024-12-17T06:07:14.644760Z",
     "start_time": "2024-12-17T06:07:14.625224Z"
    }
   },
   "cell_type": "code",
   "source": [
    "query = lf.select([\n",
    "    pl.col('date_id'),\n",
    "    pl.col('responder_6').alias('resp'),\n",
    "    pl.col('weight'),\n",
    "    *[pl.col(f) for f in feature_cols]\n",
    "]).limit(1000000).sort('date_id')"
   ],
   "id": "b3109a4f01f65967",
   "outputs": [],
   "execution_count": 6
  },
  {
   "metadata": {
    "ExecuteTime": {
     "end_time": "2024-12-13T14:30:40.914198Z",
     "start_time": "2024-12-13T14:30:40.874982Z"
    }
   },
   "cell_type": "code",
   "source": "query.",
   "id": "7f967df70508a697",
   "outputs": [
    {
     "data": {
      "text/plain": [
       "<LazyFrame at 0xC1C76A350>"
      ],
      "text/html": [
       "<i>naive plan: (run <b>LazyFrame.explain(optimized=True)</b> to see the optimized plan)</i>\n",
       "    <p></p>\n",
       "    <div>SORT BY [col(\"date_id\")]<p></p>  SLICE[offset: 0, len: 1000000]<p></p>     SELECT [col(\"date_id\"), col(\"responder_6\").alias(\"resp\"), col(\"feature_00\"), col(\"feature_01\"), col(\"feature_02\"), col(\"feature_03\"), col(\"feature_04\"), col(\"feature_05\"), col(\"feature_06\"), col(\"feature_07\"), col(\"feature_08\"), col(\"feature_09\"), col(\"feature_10\"), col(\"feature_11\"), col(\"feature_12\"), col(\"feature_13\"), col(\"feature_14\"), col(\"feature_15\"), col(\"feature_16\"), col(\"feature_17\"), col(\"feature_18\"), col(\"feature_19\"), col(\"feature_20\"), col(\"feature_21\"), col(\"feature_22\"), col(\"feature_23\"), col(\"feature_24\"), col(\"feature_25\"), col(\"feature_26\"), col(\"feature_27\"), col(\"feature_28\"), col(\"feature_29\"), col(\"feature_30\"), col(\"feature_31\"), col(\"feature_32\"), col(\"feature_33\"), col(\"feature_34\"), col(\"feature_35\"), col(\"feature_36\"), col(\"feature_37\"), col(\"feature_38\"), col(\"feature_39\"), col(\"feature_40\"), col(\"feature_41\"), col(\"feature_42\"), col(\"feature_43\"), col(\"feature_44\"), col(\"feature_45\"), col(\"feature_46\"), col(\"feature_47\"), col(\"feature_48\"), col(\"feature_49\"), col(\"feature_50\"), col(\"feature_51\"), col(\"feature_52\"), col(\"feature_53\"), col(\"feature_54\"), col(\"feature_55\"), col(\"feature_56\"), col(\"feature_57\"), col(\"feature_58\"), col(\"feature_59\"), col(\"feature_60\"), col(\"feature_61\"), col(\"feature_62\"), col(\"feature_63\"), col(\"feature_64\"), col(\"feature_65\"), col(\"feature_66\"), col(\"feature_67\"), col(\"feature_68\"), col(\"feature_69\"), col(\"feature_70\"), col(\"feature_71\"), col(\"feature_72\"), col(\"feature_73\"), col(\"feature_74\"), col(\"feature_75\"), col(\"feature_76\"), col(\"feature_77\"), col(\"feature_78\")] FROM<p></p>       WITH_COLUMNS:<p></p>       [col(\"date_id\").fill_null([3]), col(\"time_id\").fill_null([3]), col(\"symbol_id\").fill_null([3]), col(\"weight\").fill_null([3.0]), col(\"feature_00\").fill_null([3.0]), col(\"feature_01\").fill_null([3.0]), col(\"feature_02\").fill_null([3.0]), col(\"feature_03\").fill_null([3.0]), col(\"feature_04\").fill_null([3.0]), col(\"feature_05\").fill_null([3.0]), col(\"feature_06\").fill_null([3.0]), col(\"feature_07\").fill_null([3.0]), col(\"feature_08\").fill_null([3.0]), col(\"feature_09\").fill_null([3]), col(\"feature_10\").fill_null([3]), col(\"feature_11\").fill_null([3]), col(\"feature_12\").fill_null([3.0]), col(\"feature_13\").fill_null([3.0]), col(\"feature_14\").fill_null([3.0]), col(\"feature_15\").fill_null([3.0]), col(\"feature_16\").fill_null([3.0]), col(\"feature_17\").fill_null([3.0]), col(\"feature_18\").fill_null([3.0]), col(\"feature_19\").fill_null([3.0]), col(\"feature_20\").fill_null([3.0]), col(\"feature_21\").fill_null([3.0]), col(\"feature_22\").fill_null([3.0]), col(\"feature_23\").fill_null([3.0]), col(\"feature_24\").fill_null([3.0]), col(\"feature_25\").fill_null([3.0]), col(\"feature_26\").fill_null([3.0]), col(\"feature_27\").fill_null([3.0]), col(\"feature_28\").fill_null([3.0]), col(\"feature_29\").fill_null([3.0]), col(\"feature_30\").fill_null([3.0]), col(\"feature_31\").fill_null([3.0]), col(\"feature_32\").fill_null([3.0]), col(\"feature_33\").fill_null([3.0]), col(\"feature_34\").fill_null([3.0]), col(\"feature_35\").fill_null([3.0]), col(\"feature_36\").fill_null([3.0]), col(\"feature_37\").fill_null([3.0]), col(\"feature_38\").fill_null([3.0]), col(\"feature_39\").fill_null([3.0]), col(\"feature_40\").fill_null([3.0]), col(\"feature_41\").fill_null([3.0]), col(\"feature_42\").fill_null([3.0]), col(\"feature_43\").fill_null([3.0]), col(\"feature_44\").fill_null([3.0]), col(\"feature_45\").fill_null([3.0]), col(\"feature_46\").fill_null([3.0]), col(\"feature_47\").fill_null([3.0]), col(\"feature_48\").fill_null([3.0]), col(\"feature_49\").fill_null([3.0]), col(\"feature_50\").fill_null([3.0]), col(\"feature_51\").fill_null([3.0]), col(\"feature_52\").fill_null([3.0]), col(\"feature_53\").fill_null([3.0]), col(\"feature_54\").fill_null([3.0]), col(\"feature_55\").fill_null([3.0]), col(\"feature_56\").fill_null([3.0]), col(\"feature_57\").fill_null([3.0]), col(\"feature_58\").fill_null([3.0]), col(\"feature_59\").fill_null([3.0]), col(\"feature_60\").fill_null([3.0]), col(\"feature_61\").fill_null([3.0]), col(\"feature_62\").fill_null([3.0]), col(\"feature_63\").fill_null([3.0]), col(\"feature_64\").fill_null([3.0]), col(\"feature_65\").fill_null([3.0]), col(\"feature_66\").fill_null([3.0]), col(\"feature_67\").fill_null([3.0]), col(\"feature_68\").fill_null([3.0]), col(\"feature_69\").fill_null([3.0]), col(\"feature_70\").fill_null([3.0]), col(\"feature_71\").fill_null([3.0]), col(\"feature_72\").fill_null([3.0]), col(\"feature_73\").fill_null([3.0]), col(\"feature_74\").fill_null([3.0]), col(\"feature_75\").fill_null([3.0]), col(\"feature_76\").fill_null([3.0]), col(\"feature_77\").fill_null([3.0]), col(\"feature_78\").fill_null([3.0]), col(\"responder_0\").fill_null([3.0]), col(\"responder_1\").fill_null([3.0]), col(\"responder_2\").fill_null([3.0]), col(\"responder_3\").fill_null([3.0]), col(\"responder_4\").fill_null([3.0]), col(\"responder_5\").fill_null([3.0]), col(\"responder_6\").fill_null([3.0]), col(\"responder_7\").fill_null([3.0]), col(\"responder_8\").fill_null([3.0]), col(\"partition_id\").fill_null([3])] <p></p>        Parquet SCAN [/Users/darklight/Interning/Kaggle/jane_street_kaggle/jane-street-real-time-market-data-forecasting/train.parquet/partition_id=0/part-0.parquet, ... 9 other sources]<p></p>        PROJECT */93 COLUMNS</div>"
      ]
     },
     "execution_count": 26,
     "metadata": {},
     "output_type": "execute_result"
    }
   ],
   "execution_count": 26
  },
  {
   "metadata": {
    "ExecuteTime": {
     "end_time": "2024-12-13T14:30:44.616412Z",
     "start_time": "2024-12-13T14:30:44.083913Z"
    }
   },
   "cell_type": "code",
   "source": [
    "stats = query.select([\n",
    "    *[pl.col(col).quantile(.95).alias(f\"{col}_q95\") for col in feature_cols],\n",
    "    *[pl.col(col).quantile(.05).alias(f\"{col}_q05\") for col in feature_cols],\n",
    "    *[pl.col(col).std().alias(f\"{col}_std\") for col in feature_cols],\n",
    "    pl.col('resp').quantile(.95).alias(\"resp_q95\"),\n",
    "    pl.col('resp').quantile(.05).alias(\"resp_q05\"),\n",
    "    pl.col('resp').std().alias(\"resp_std\"),\n",
    "]\n",
    ").collect()"
   ],
   "id": "f4b92b5ec2686cb1",
   "outputs": [],
   "execution_count": 27
  },
  {
   "metadata": {
    "ExecuteTime": {
     "end_time": "2024-12-13T14:28:21.161763Z",
     "start_time": "2024-12-13T14:28:21.156880Z"
    }
   },
   "cell_type": "code",
   "source": "stats",
   "id": "7e2221af8c36fee9",
   "outputs": [
    {
     "data": {
      "text/plain": [
       "shape: (1, 240)\n",
       "┌────────────┬───────────┬───────────┬───────────┬───┬───────────┬──────────┬───────────┬──────────┐\n",
       "│ feature_00 ┆ feature_0 ┆ feature_0 ┆ feature_0 ┆ … ┆ feature_7 ┆ resp_q95 ┆ resp_q05  ┆ resp_std │\n",
       "│ _q95       ┆ 1_q95     ┆ 2_q95     ┆ 3_q95     ┆   ┆ 8_std     ┆ ---      ┆ ---       ┆ ---      │\n",
       "│ ---        ┆ ---       ┆ ---       ┆ ---       ┆   ┆ ---       ┆ f32      ┆ f32       ┆ f32      │\n",
       "│ f32        ┆ f32       ┆ f32       ┆ f32       ┆   ┆ f32       ┆          ┆           ┆          │\n",
       "╞════════════╪═══════════╪═══════════╪═══════════╪═══╪═══════════╪══════════╪═══════════╪══════════╡\n",
       "│ 3.0        ┆ 3.0       ┆ 3.0       ┆ 3.0       ┆ … ┆ 0.98731   ┆ 2.109352 ┆ -2.848184 ┆ 1.437894 │\n",
       "└────────────┴───────────┴───────────┴───────────┴───┴───────────┴──────────┴───────────┴──────────┘"
      ],
      "text/html": [
       "<div><style>\n",
       ".dataframe > thead > tr,\n",
       ".dataframe > tbody > tr {\n",
       "  text-align: right;\n",
       "  white-space: pre-wrap;\n",
       "}\n",
       "</style>\n",
       "<small>shape: (1, 240)</small><table border=\"1\" class=\"dataframe\"><thead><tr><th>feature_00_q95</th><th>feature_01_q95</th><th>feature_02_q95</th><th>feature_03_q95</th><th>feature_04_q95</th><th>feature_05_q95</th><th>feature_06_q95</th><th>feature_07_q95</th><th>feature_08_q95</th><th>feature_09_q95</th><th>feature_10_q95</th><th>feature_11_q95</th><th>feature_12_q95</th><th>feature_13_q95</th><th>feature_14_q95</th><th>feature_15_q95</th><th>feature_16_q95</th><th>feature_17_q95</th><th>feature_18_q95</th><th>feature_19_q95</th><th>feature_20_q95</th><th>feature_21_q95</th><th>feature_22_q95</th><th>feature_23_q95</th><th>feature_24_q95</th><th>feature_25_q95</th><th>feature_26_q95</th><th>feature_27_q95</th><th>feature_28_q95</th><th>feature_29_q95</th><th>feature_30_q95</th><th>feature_31_q95</th><th>feature_32_q95</th><th>feature_33_q95</th><th>feature_34_q95</th><th>feature_35_q95</th><th>feature_36_q95</th><th>&hellip;</th><th>feature_45_std</th><th>feature_46_std</th><th>feature_47_std</th><th>feature_48_std</th><th>feature_49_std</th><th>feature_50_std</th><th>feature_51_std</th><th>feature_52_std</th><th>feature_53_std</th><th>feature_54_std</th><th>feature_55_std</th><th>feature_56_std</th><th>feature_57_std</th><th>feature_58_std</th><th>feature_59_std</th><th>feature_60_std</th><th>feature_61_std</th><th>feature_62_std</th><th>feature_63_std</th><th>feature_64_std</th><th>feature_65_std</th><th>feature_66_std</th><th>feature_67_std</th><th>feature_68_std</th><th>feature_69_std</th><th>feature_70_std</th><th>feature_71_std</th><th>feature_72_std</th><th>feature_73_std</th><th>feature_74_std</th><th>feature_75_std</th><th>feature_76_std</th><th>feature_77_std</th><th>feature_78_std</th><th>resp_q95</th><th>resp_q05</th><th>resp_std</th></tr><tr><td>f32</td><td>f32</td><td>f32</td><td>f32</td><td>f32</td><td>f32</td><td>f32</td><td>f32</td><td>f32</td><td>f64</td><td>f64</td><td>f64</td><td>f32</td><td>f32</td><td>f32</td><td>f32</td><td>f32</td><td>f32</td><td>f32</td><td>f32</td><td>f32</td><td>f32</td><td>f32</td><td>f32</td><td>f32</td><td>f32</td><td>f32</td><td>f32</td><td>f32</td><td>f32</td><td>f32</td><td>f32</td><td>f32</td><td>f32</td><td>f32</td><td>f32</td><td>f32</td><td>&hellip;</td><td>f32</td><td>f32</td><td>f32</td><td>f32</td><td>f32</td><td>f32</td><td>f32</td><td>f32</td><td>f32</td><td>f32</td><td>f32</td><td>f32</td><td>f32</td><td>f32</td><td>f32</td><td>f32</td><td>f32</td><td>f32</td><td>f32</td><td>f32</td><td>f32</td><td>f32</td><td>f32</td><td>f32</td><td>f32</td><td>f32</td><td>f32</td><td>f32</td><td>f32</td><td>f32</td><td>f32</td><td>f32</td><td>f32</td><td>f32</td><td>f32</td><td>f32</td><td>f32</td></tr></thead><tbody><tr><td>3.0</td><td>3.0</td><td>3.0</td><td>3.0</td><td>3.0</td><td>1.306166</td><td>1.48272</td><td>0.828503</td><td>-0.496455</td><td>44.0</td><td>7.0</td><td>150.0</td><td>-0.550296</td><td>2.976024</td><td>0.49229</td><td>3.0</td><td>1.341418</td><td>3.0</td><td>-0.717197</td><td>-0.879003</td><td>1.412757</td><td>3.0</td><td>1.636431</td><td>1.522133</td><td>-0.573883</td><td>0.964037</td><td>3.0</td><td>3.0</td><td>1.378301</td><td>0.580907</td><td>1.128879</td><td>3.0</td><td>3.0</td><td>3.0</td><td>1.078662</td><td>1.637528</td><td>3.114953</td><td>&hellip;</td><td>0.0</td><td>0.0</td><td>9.415174</td><td>54.008766</td><td>16.022173</td><td>0.0</td><td>0.700603</td><td>0.0</td><td>0.0</td><td>1.467331</td><td>0.0</td><td>0.743412</td><td>0.809627</td><td>0.0</td><td>2.377194</td><td>1.426087</td><td>0.0</td><td>0.0</td><td>0.0</td><td>0.0</td><td>0.0</td><td>0.0</td><td>0.17661</td><td>0.596004</td><td>0.236987</td><td>0.27884</td><td>1.285636</td><td>0.543738</td><td>0.0</td><td>0.0</td><td>0.753187</td><td>0.744525</td><td>0.997021</td><td>0.98731</td><td>2.109352</td><td>-2.848184</td><td>1.437894</td></tr></tbody></table></div>"
      ]
     },
     "execution_count": 15,
     "metadata": {},
     "output_type": "execute_result"
    }
   ],
   "execution_count": 15
  },
  {
   "metadata": {
    "ExecuteTime": {
     "end_time": "2024-12-13T14:30:47.352820Z",
     "start_time": "2024-12-13T14:30:47.346568Z"
    }
   },
   "cell_type": "code",
   "source": [
    "normalized_features_and_resp = []\n",
    "for col in feature_cols + ['resp']:\n",
    "    q05 = stats.get_column(f'{col}_q05')[0]\n",
    "    q95 = stats.get_column(f'{col}_q95')[0]\n",
    "    std = stats.get_column(f'{col}_std')[0]\n",
    "\n",
    "    center = (q95 + q05) / 2\n",
    "    scale = (q95 - q05) / 2 if abs(q95 - q05) > 1e-10 else std if std > 1e-10 else 1.0\n",
    "    normalized_features_and_resp.append(\n",
    "        pl.when(pl.col(col) > q95)\n",
    "        .then(1.0)\n",
    "        .when(pl.col(col) < q05)\n",
    "        .then(-1.0)\n",
    "        .otherwise((pl.col(col) - center) / scale)\n",
    "        .alias(f\"{col}_normalized\")\n",
    "    )\n",
    "\n",
    "temp_lf = query.select([pl.col(\"date_id\"),*normalized_features_and_resp])"
   ],
   "id": "ca4ce502b3877a8e",
   "outputs": [],
   "execution_count": 28
  },
  {
   "metadata": {
    "ExecuteTime": {
     "end_time": "2024-12-13T13:51:28.715593Z",
     "start_time": "2024-12-13T13:51:28.713071Z"
    }
   },
   "cell_type": "code",
   "source": "q05 = stats.get_column(f'{\"feature_00_q05\"}')",
   "id": "7c825568343e7c1a",
   "outputs": [],
   "execution_count": 28
  },
  {
   "metadata": {
    "ExecuteTime": {
     "end_time": "2024-12-13T13:55:16.783105Z",
     "start_time": "2024-12-13T13:55:16.774216Z"
    }
   },
   "cell_type": "code",
   "source": "q05[0]",
   "id": "e0bb7ea7b926d4df",
   "outputs": [
    {
     "data": {
      "text/plain": [
       "3.0"
      ]
     },
     "execution_count": 30,
     "metadata": {},
     "output_type": "execute_result"
    }
   ],
   "execution_count": 30
  },
  {
   "metadata": {
    "ExecuteTime": {
     "end_time": "2024-12-13T14:30:52.131867Z",
     "start_time": "2024-12-13T14:30:51.953662Z"
    }
   },
   "cell_type": "code",
   "source": "temp_lf.collect()",
   "id": "b01d0bc8c83145b0",
   "outputs": [
    {
     "data": {
      "text/plain": [
       "shape: (1_000_000, 81)\n",
       "┌─────────┬────────────┬───────────┬───────────┬───┬───────────┬───────────┬───────────┬───────────┐\n",
       "│ date_id ┆ feature_00 ┆ feature_0 ┆ feature_0 ┆ … ┆ feature_7 ┆ feature_7 ┆ feature_7 ┆ resp_norm │\n",
       "│ ---     ┆ _normalize ┆ 1_normali ┆ 2_normali ┆   ┆ 6_normali ┆ 7_normali ┆ 8_normali ┆ alized    │\n",
       "│ i16     ┆ d          ┆ zed       ┆ zed       ┆   ┆ zed       ┆ zed       ┆ zed       ┆ ---       │\n",
       "│         ┆ ---        ┆ ---       ┆ ---       ┆   ┆ ---       ┆ ---       ┆ ---       ┆ f32       │\n",
       "│         ┆ f32        ┆ f32       ┆ f32       ┆   ┆ f32       ┆ f32       ┆ f32       ┆           │\n",
       "╞═════════╪════════════╪═══════════╪═══════════╪═══╪═══════════╪═══════════╪═══════════╪═══════════╡\n",
       "│ 0       ┆ 0.0        ┆ 0.0       ┆ 0.0       ┆ … ┆ -0.556947 ┆ -0.835269 ┆ -0.647074 ┆ 0.627418  │\n",
       "│ 0       ┆ 0.0        ┆ 0.0       ┆ 0.0       ┆ … ┆ -0.50603  ┆ -0.638358 ┆ -0.691581 ┆ 0.567851  │\n",
       "│ 0       ┆ 0.0        ┆ 0.0       ┆ 0.0       ┆ … ┆ 0.355209  ┆ -0.334816 ┆ -0.254527 ┆ 1.0       │\n",
       "│ 0       ┆ 0.0        ┆ 0.0       ┆ 0.0       ┆ … ┆ -0.628048 ┆ -0.572619 ┆ -0.678412 ┆ 0.905961  │\n",
       "│ 0       ┆ 0.0        ┆ 0.0       ┆ 0.0       ┆ … ┆ 1.0       ┆ 1.0       ┆ 1.0       ┆ -1.0      │\n",
       "│ …       ┆ …          ┆ …         ┆ …         ┆ … ┆ …         ┆ …         ┆ …         ┆ …         │\n",
       "│ 101     ┆ 0.0        ┆ 0.0       ┆ 0.0       ┆ … ┆ -0.720926 ┆ -0.564162 ┆ -0.656408 ┆ -0.031448 │\n",
       "│ 101     ┆ 0.0        ┆ 0.0       ┆ 0.0       ┆ … ┆ -0.599191 ┆ -0.635256 ┆ -0.688079 ┆ -0.204388 │\n",
       "│ 101     ┆ 0.0        ┆ 0.0       ┆ 0.0       ┆ … ┆ -0.543518 ┆ -0.776484 ┆ -0.585873 ┆ -0.83371  │\n",
       "│ 101     ┆ 0.0        ┆ 0.0       ┆ 0.0       ┆ … ┆ -0.680423 ┆ -0.552032 ┆ -0.481016 ┆ 0.730099  │\n",
       "│ 101     ┆ 0.0        ┆ 0.0       ┆ 0.0       ┆ … ┆ -0.638882 ┆ -0.633331 ┆ -0.392246 ┆ -0.040442 │\n",
       "└─────────┴────────────┴───────────┴───────────┴───┴───────────┴───────────┴───────────┴───────────┘"
      ],
      "text/html": [
       "<div><style>\n",
       ".dataframe > thead > tr,\n",
       ".dataframe > tbody > tr {\n",
       "  text-align: right;\n",
       "  white-space: pre-wrap;\n",
       "}\n",
       "</style>\n",
       "<small>shape: (1_000_000, 81)</small><table border=\"1\" class=\"dataframe\"><thead><tr><th>date_id</th><th>feature_00_normalized</th><th>feature_01_normalized</th><th>feature_02_normalized</th><th>feature_03_normalized</th><th>feature_04_normalized</th><th>feature_05_normalized</th><th>feature_06_normalized</th><th>feature_07_normalized</th><th>feature_08_normalized</th><th>feature_09_normalized</th><th>feature_10_normalized</th><th>feature_11_normalized</th><th>feature_12_normalized</th><th>feature_13_normalized</th><th>feature_14_normalized</th><th>feature_15_normalized</th><th>feature_16_normalized</th><th>feature_17_normalized</th><th>feature_18_normalized</th><th>feature_19_normalized</th><th>feature_20_normalized</th><th>feature_21_normalized</th><th>feature_22_normalized</th><th>feature_23_normalized</th><th>feature_24_normalized</th><th>feature_25_normalized</th><th>feature_26_normalized</th><th>feature_27_normalized</th><th>feature_28_normalized</th><th>feature_29_normalized</th><th>feature_30_normalized</th><th>feature_31_normalized</th><th>feature_32_normalized</th><th>feature_33_normalized</th><th>feature_34_normalized</th><th>feature_35_normalized</th><th>&hellip;</th><th>feature_43_normalized</th><th>feature_44_normalized</th><th>feature_45_normalized</th><th>feature_46_normalized</th><th>feature_47_normalized</th><th>feature_48_normalized</th><th>feature_49_normalized</th><th>feature_50_normalized</th><th>feature_51_normalized</th><th>feature_52_normalized</th><th>feature_53_normalized</th><th>feature_54_normalized</th><th>feature_55_normalized</th><th>feature_56_normalized</th><th>feature_57_normalized</th><th>feature_58_normalized</th><th>feature_59_normalized</th><th>feature_60_normalized</th><th>feature_61_normalized</th><th>feature_62_normalized</th><th>feature_63_normalized</th><th>feature_64_normalized</th><th>feature_65_normalized</th><th>feature_66_normalized</th><th>feature_67_normalized</th><th>feature_68_normalized</th><th>feature_69_normalized</th><th>feature_70_normalized</th><th>feature_71_normalized</th><th>feature_72_normalized</th><th>feature_73_normalized</th><th>feature_74_normalized</th><th>feature_75_normalized</th><th>feature_76_normalized</th><th>feature_77_normalized</th><th>feature_78_normalized</th><th>resp_normalized</th></tr><tr><td>i16</td><td>f32</td><td>f32</td><td>f32</td><td>f32</td><td>f32</td><td>f32</td><td>f32</td><td>f32</td><td>f32</td><td>f64</td><td>f64</td><td>f64</td><td>f32</td><td>f32</td><td>f32</td><td>f32</td><td>f32</td><td>f32</td><td>f32</td><td>f32</td><td>f32</td><td>f32</td><td>f32</td><td>f32</td><td>f32</td><td>f32</td><td>f32</td><td>f32</td><td>f32</td><td>f32</td><td>f32</td><td>f32</td><td>f32</td><td>f32</td><td>f32</td><td>f32</td><td>&hellip;</td><td>f32</td><td>f32</td><td>f32</td><td>f32</td><td>f32</td><td>f32</td><td>f32</td><td>f32</td><td>f32</td><td>f32</td><td>f32</td><td>f32</td><td>f32</td><td>f32</td><td>f32</td><td>f32</td><td>f32</td><td>f32</td><td>f32</td><td>f32</td><td>f32</td><td>f32</td><td>f32</td><td>f32</td><td>f32</td><td>f32</td><td>f32</td><td>f32</td><td>f32</td><td>f32</td><td>f32</td><td>f32</td><td>f32</td><td>f32</td><td>f32</td><td>f32</td><td>f32</td></tr></thead><tbody><tr><td>0</td><td>0.0</td><td>0.0</td><td>0.0</td><td>0.0</td><td>0.0</td><td>0.662582</td><td>0.195808</td><td>0.222406</td><td>-0.81331</td><td>-0.787879</td><td>1.0</td><td>-0.745597</td><td>-1.0</td><td>-0.520421</td><td>-1.0</td><td>1.0</td><td>-0.63652</td><td>1.0</td><td>-1.0</td><td>-1.0</td><td>0.316823</td><td>0.0</td><td>0.587119</td><td>0.726357</td><td>-0.863244</td><td>-0.419099</td><td>0.0</td><td>0.0</td><td>0.81877</td><td>-0.763899</td><td>-0.585566</td><td>0.0</td><td>1.0</td><td>1.0</td><td>0.524081</td><td>0.520284</td><td>&hellip;</td><td>-0.113731</td><td>1.0</td><td>1.0</td><td>1.0</td><td>0.469799</td><td>1.0</td><td>0.602127</td><td>1.0</td><td>0.169913</td><td>1.0</td><td>1.0</td><td>-0.446845</td><td>1.0</td><td>-1.0</td><td>0.454158</td><td>1.0</td><td>-0.870966</td><td>-0.239611</td><td>-0.738164</td><td>1.0</td><td>1.0</td><td>1.0</td><td>1.0</td><td>1.0</td><td>-1.0</td><td>-0.658768</td><td>-0.857611</td><td>-1.0</td><td>-0.396898</td><td>-0.921999</td><td>1.0</td><td>1.0</td><td>-0.717852</td><td>-0.556947</td><td>-0.835269</td><td>-0.647074</td><td>0.627418</td></tr><tr><td>0</td><td>0.0</td><td>0.0</td><td>0.0</td><td>0.0</td><td>0.0</td><td>0.537033</td><td>0.126725</td><td>0.169875</td><td>-0.520382</td><td>-0.787879</td><td>1.0</td><td>-0.745597</td><td>-1.0</td><td>-0.721275</td><td>-0.885144</td><td>1.0</td><td>-0.353748</td><td>1.0</td><td>-0.961537</td><td>-1.0</td><td>0.597138</td><td>0.0</td><td>-0.117227</td><td>0.172723</td><td>-0.232123</td><td>0.088127</td><td>0.0</td><td>0.0</td><td>0.149996</td><td>-0.213859</td><td>0.009058</td><td>0.0</td><td>1.0</td><td>1.0</td><td>-0.7367</td><td>-0.661644</td><td>&hellip;</td><td>1.0</td><td>1.0</td><td>1.0</td><td>1.0</td><td>-1.0</td><td>0.016934</td><td>-0.388681</td><td>1.0</td><td>0.652369</td><td>1.0</td><td>1.0</td><td>-0.865944</td><td>1.0</td><td>-0.754701</td><td>0.655693</td><td>1.0</td><td>0.805321</td><td>0.391549</td><td>-0.738164</td><td>1.0</td><td>1.0</td><td>1.0</td><td>1.0</td><td>1.0</td><td>-1.0</td><td>-0.534556</td><td>-0.937508</td><td>-1.0</td><td>-0.904844</td><td>-0.982865</td><td>1.0</td><td>1.0</td><td>-0.754196</td><td>-0.50603</td><td>-0.638358</td><td>-0.691581</td><td>0.567851</td></tr><tr><td>0</td><td>0.0</td><td>0.0</td><td>0.0</td><td>0.0</td><td>0.0</td><td>0.81062</td><td>0.153484</td><td>0.21241</td><td>-0.719375</td><td>-0.787879</td><td>1.0</td><td>-0.745597</td><td>-0.87778</td><td>-0.698243</td><td>-0.888689</td><td>1.0</td><td>-1.0</td><td>1.0</td><td>-0.990797</td><td>-1.0</td><td>0.165942</td><td>0.0</td><td>0.56246</td><td>0.111086</td><td>-0.696721</td><td>-0.073436</td><td>0.0</td><td>0.0</td><td>0.007683</td><td>-0.785305</td><td>-0.730766</td><td>0.0</td><td>1.0</td><td>1.0</td><td>0.100812</td><td>-0.341318</td><td>&hellip;</td><td>1.0</td><td>1.0</td><td>1.0</td><td>1.0</td><td>-0.668662</td><td>-1.0</td><td>-1.0</td><td>1.0</td><td>0.334928</td><td>1.0</td><td>1.0</td><td>-0.404471</td><td>1.0</td><td>-1.0</td><td>1.0</td><td>1.0</td><td>-0.095685</td><td>-0.02093</td><td>-0.738164</td><td>1.0</td><td>1.0</td><td>1.0</td><td>1.0</td><td>1.0</td><td>-1.0</td><td>-0.620804</td><td>-0.957211</td><td>-0.975708</td><td>-0.763583</td><td>-0.959271</td><td>1.0</td><td>1.0</td><td>0.454557</td><td>0.355209</td><td>-0.334816</td><td>-0.254527</td><td>1.0</td></tr><tr><td>0</td><td>0.0</td><td>0.0</td><td>0.0</td><td>0.0</td><td>0.0</td><td>0.870543</td><td>0.218856</td><td>0.25436</td><td>-1.0</td><td>0.151515</td><td>0.333333</td><td>-0.455969</td><td>-0.890666</td><td>1.0</td><td>-0.352086</td><td>1.0</td><td>-0.684299</td><td>1.0</td><td>-1.0</td><td>-0.62975</td><td>-0.05626</td><td>0.0</td><td>-0.69326</td><td>-0.516707</td><td>-1.0</td><td>-0.783282</td><td>0.0</td><td>0.0</td><td>0.252797</td><td>-0.951213</td><td>-0.59591</td><td>0.0</td><td>1.0</td><td>1.0</td><td>0.708937</td><td>0.270173</td><td>&hellip;</td><td>1.0</td><td>1.0</td><td>1.0</td><td>1.0</td><td>0.365428</td><td>1.0</td><td>0.451984</td><td>1.0</td><td>1.0</td><td>1.0</td><td>1.0</td><td>0.640315</td><td>1.0</td><td>-0.386004</td><td>1.0</td><td>1.0</td><td>1.0</td><td>1.0</td><td>-0.738164</td><td>1.0</td><td>1.0</td><td>1.0</td><td>1.0</td><td>1.0</td><td>-0.921635</td><td>0.531913</td><td>-0.634312</td><td>-0.741905</td><td>1.0</td><td>-0.005038</td><td>1.0</td><td>1.0</td><td>-0.654469</td><td>-0.628048</td><td>-0.572619</td><td>-0.678412</td><td>0.905961</td></tr><tr><td>0</td><td>0.0</td><td>0.0</td><td>0.0</td><td>0.0</td><td>0.0</td><td>0.737713</td><td>0.210562</td><td>0.282432</td><td>-0.593293</td><td>0.212121</td><td>-0.333333</td><td>-0.980431</td><td>-1.0</td><td>-0.549479</td><td>-0.824124</td><td>1.0</td><td>-0.16296</td><td>1.0</td><td>-1.0</td><td>-0.98605</td><td>-0.292273</td><td>0.0</td><td>-1.0</td><td>-0.8363</td><td>-0.640442</td><td>-1.0</td><td>0.0</td><td>0.0</td><td>0.043452</td><td>-0.787127</td><td>-0.677158</td><td>0.0</td><td>1.0</td><td>1.0</td><td>0.264257</td><td>-0.367233</td><td>&hellip;</td><td>1.0</td><td>1.0</td><td>1.0</td><td>1.0</td><td>-1.0</td><td>-1.0</td><td>-1.0</td><td>1.0</td><td>0.692771</td><td>1.0</td><td>1.0</td><td>0.211352</td><td>1.0</td><td>-0.362408</td><td>1.0</td><td>1.0</td><td>1.0</td><td>0.347956</td><td>-0.738164</td><td>1.0</td><td>1.0</td><td>1.0</td><td>1.0</td><td>1.0</td><td>-1.0</td><td>-0.685468</td><td>-0.823473</td><td>-1.0</td><td>-0.445844</td><td>-0.923536</td><td>1.0</td><td>1.0</td><td>1.0</td><td>1.0</td><td>1.0</td><td>1.0</td><td>-1.0</td></tr><tr><td>&hellip;</td><td>&hellip;</td><td>&hellip;</td><td>&hellip;</td><td>&hellip;</td><td>&hellip;</td><td>&hellip;</td><td>&hellip;</td><td>&hellip;</td><td>&hellip;</td><td>&hellip;</td><td>&hellip;</td><td>&hellip;</td><td>&hellip;</td><td>&hellip;</td><td>&hellip;</td><td>&hellip;</td><td>&hellip;</td><td>&hellip;</td><td>&hellip;</td><td>&hellip;</td><td>&hellip;</td><td>&hellip;</td><td>&hellip;</td><td>&hellip;</td><td>&hellip;</td><td>&hellip;</td><td>&hellip;</td><td>&hellip;</td><td>&hellip;</td><td>&hellip;</td><td>&hellip;</td><td>&hellip;</td><td>&hellip;</td><td>&hellip;</td><td>&hellip;</td><td>&hellip;</td><td>&hellip;</td><td>&hellip;</td><td>&hellip;</td><td>&hellip;</td><td>&hellip;</td><td>&hellip;</td><td>&hellip;</td><td>&hellip;</td><td>&hellip;</td><td>&hellip;</td><td>&hellip;</td><td>&hellip;</td><td>&hellip;</td><td>&hellip;</td><td>&hellip;</td><td>&hellip;</td><td>&hellip;</td><td>&hellip;</td><td>&hellip;</td><td>&hellip;</td><td>&hellip;</td><td>&hellip;</td><td>&hellip;</td><td>&hellip;</td><td>&hellip;</td><td>&hellip;</td><td>&hellip;</td><td>&hellip;</td><td>&hellip;</td><td>&hellip;</td><td>&hellip;</td><td>&hellip;</td><td>&hellip;</td><td>&hellip;</td><td>&hellip;</td><td>&hellip;</td><td>&hellip;</td><td>&hellip;</td></tr><tr><td>101</td><td>0.0</td><td>0.0</td><td>0.0</td><td>0.0</td><td>0.0</td><td>-0.062818</td><td>0.107517</td><td>-0.084064</td><td>-0.350803</td><td>0.393939</td><td>-1.0</td><td>1.0</td><td>-0.92372</td><td>-0.919166</td><td>-0.899961</td><td>-0.703061</td><td>-0.606383</td><td>-0.730807</td><td>0.337261</td><td>0.783803</td><td>0.15387</td><td>0.0</td><td>-0.531845</td><td>-0.208822</td><td>-0.141404</td><td>0.228736</td><td>0.0</td><td>0.0</td><td>0.381483</td><td>-0.660589</td><td>-0.628209</td><td>0.0</td><td>0.799041</td><td>-0.675174</td><td>0.977674</td><td>1.0</td><td>&hellip;</td><td>-0.770957</td><td>-0.79237</td><td>-0.066509</td><td>-0.245036</td><td>-0.010647</td><td>0.016861</td><td>-0.028769</td><td>-0.908731</td><td>0.270999</td><td>-0.536186</td><td>-0.240265</td><td>-0.056335</td><td>-0.064077</td><td>-0.018911</td><td>-0.099126</td><td>-0.11281</td><td>0.015428</td><td>-0.085991</td><td>-0.537113</td><td>-0.838565</td><td>-0.893049</td><td>-0.941961</td><td>0.192434</td><td>0.699424</td><td>-0.919577</td><td>-0.887098</td><td>-0.808844</td><td>-0.706996</td><td>-0.884357</td><td>-1.0</td><td>-0.600202</td><td>-0.423371</td><td>-0.506333</td><td>-0.720926</td><td>-0.564162</td><td>-0.656408</td><td>-0.031448</td></tr><tr><td>101</td><td>0.0</td><td>0.0</td><td>0.0</td><td>0.0</td><td>0.0</td><td>-0.132548</td><td>0.033207</td><td>-0.067455</td><td>-0.466325</td><td>-0.787879</td><td>1.0</td><td>-0.745597</td><td>-0.644037</td><td>-0.846917</td><td>-0.679286</td><td>-0.738759</td><td>-1.0</td><td>-0.840606</td><td>-0.176956</td><td>1.0</td><td>0.282871</td><td>0.0</td><td>0.213043</td><td>0.023845</td><td>-0.625307</td><td>-0.322064</td><td>0.0</td><td>0.0</td><td>0.460934</td><td>-0.852751</td><td>-0.74378</td><td>0.0</td><td>0.879945</td><td>-0.365823</td><td>1.0</td><td>1.0</td><td>&hellip;</td><td>-0.55997</td><td>-0.34837</td><td>0.008467</td><td>-0.617918</td><td>-0.035365</td><td>-0.09153</td><td>-0.271346</td><td>-0.598209</td><td>-0.526855</td><td>-0.073771</td><td>-0.287951</td><td>0.265399</td><td>-0.360761</td><td>0.932877</td><td>0.088061</td><td>-0.094963</td><td>0.092336</td><td>-0.006648</td><td>-0.537113</td><td>-0.437952</td><td>-0.296328</td><td>-0.420755</td><td>-0.536533</td><td>0.289696</td><td>-0.637279</td><td>-0.852743</td><td>-0.716734</td><td>-0.495004</td><td>-0.592973</td><td>-0.555326</td><td>-0.68503</td><td>-0.610083</td><td>-0.680137</td><td>-0.599191</td><td>-0.635256</td><td>-0.688079</td><td>-0.204388</td></tr><tr><td>101</td><td>0.0</td><td>0.0</td><td>0.0</td><td>0.0</td><td>0.0</td><td>-0.149836</td><td>0.039117</td><td>-0.143782</td><td>-0.588131</td><td>-0.787879</td><td>1.0</td><td>-0.745597</td><td>-0.487319</td><td>-0.929525</td><td>-0.62532</td><td>-0.736228</td><td>-0.776881</td><td>-0.762555</td><td>-0.203827</td><td>1.0</td><td>0.191422</td><td>0.0</td><td>0.738954</td><td>0.598304</td><td>-0.818206</td><td>-0.600016</td><td>0.0</td><td>0.0</td><td>1.0</td><td>-0.813294</td><td>-0.729428</td><td>0.0</td><td>0.597222</td><td>0.258456</td><td>0.777929</td><td>1.0</td><td>&hellip;</td><td>-0.190366</td><td>-0.105578</td><td>0.277578</td><td>0.248418</td><td>0.374707</td><td>0.044783</td><td>0.162714</td><td>-0.462769</td><td>-0.799879</td><td>0.124075</td><td>-0.383061</td><td>-0.479723</td><td>0.03335</td><td>0.784185</td><td>0.598739</td><td>0.202148</td><td>0.040602</td><td>0.004238</td><td>-0.537113</td><td>-0.586795</td><td>-0.923582</td><td>-0.752832</td><td>-0.770719</td><td>0.713245</td><td>-0.505111</td><td>-0.827044</td><td>-0.678651</td><td>-0.435477</td><td>-0.808931</td><td>-0.643841</td><td>-0.84629</td><td>-0.616799</td><td>-0.761623</td><td>-0.543518</td><td>-0.776484</td><td>-0.585873</td><td>-0.83371</td></tr><tr><td>101</td><td>0.0</td><td>0.0</td><td>0.0</td><td>0.0</td><td>0.0</td><td>-0.036972</td><td>0.028305</td><td>-0.051021</td><td>-0.390288</td><td>1.0</td><td>-0.666667</td><td>-0.812133</td><td>-0.331163</td><td>-0.839461</td><td>0.282202</td><td>-0.865456</td><td>-0.58134</td><td>-0.830028</td><td>1.0</td><td>1.0</td><td>-0.623401</td><td>0.0</td><td>0.27885</td><td>0.125745</td><td>-0.517641</td><td>0.631302</td><td>0.0</td><td>0.0</td><td>0.575724</td><td>-0.994528</td><td>-0.907418</td><td>0.0</td><td>-1.0</td><td>0.741402</td><td>-1.0</td><td>-1.0</td><td>&hellip;</td><td>0.525137</td><td>0.078575</td><td>-0.295641</td><td>-0.454207</td><td>-0.097651</td><td>0.009677</td><td>-0.293467</td><td>-0.818865</td><td>-0.04311</td><td>-0.193071</td><td>-0.910164</td><td>-0.272983</td><td>-0.505921</td><td>-0.577237</td><td>-0.090461</td><td>-0.9389</td><td>-0.040299</td><td>-0.514789</td><td>-0.537113</td><td>0.161249</td><td>-0.093395</td><td>0.385974</td><td>0.7426</td><td>-0.559925</td><td>-0.103385</td><td>-0.712681</td><td>0.949995</td><td>-0.598914</td><td>-0.741091</td><td>-0.318975</td><td>-0.420779</td><td>-0.479158</td><td>-0.592035</td><td>-0.680423</td><td>-0.552032</td><td>-0.481016</td><td>0.730099</td></tr><tr><td>101</td><td>0.0</td><td>0.0</td><td>0.0</td><td>0.0</td><td>0.0</td><td>-0.126352</td><td>0.02912</td><td>-0.084263</td><td>-0.712113</td><td>-0.787879</td><td>1.0</td><td>-0.745597</td><td>-0.655739</td><td>-0.742927</td><td>-0.893826</td><td>-0.324208</td><td>-0.44423</td><td>-0.345098</td><td>-0.280853</td><td>1.0</td><td>1.0</td><td>0.0</td><td>-0.405369</td><td>0.013622</td><td>-0.733244</td><td>-0.961952</td><td>0.0</td><td>0.0</td><td>0.038601</td><td>-0.48256</td><td>0.031072</td><td>0.0</td><td>0.897625</td><td>0.03979</td><td>1.0</td><td>1.0</td><td>&hellip;</td><td>0.000784</td><td>-0.00945</td><td>0.34411</td><td>-0.619454</td><td>-0.185863</td><td>-0.858779</td><td>-0.522864</td><td>-0.658944</td><td>0.236095</td><td>-0.301482</td><td>-0.981075</td><td>-0.861162</td><td>-0.406899</td><td>0.85491</td><td>0.031319</td><td>-0.297206</td><td>0.002936</td><td>-0.272992</td><td>-0.537113</td><td>-0.690355</td><td>-1.0</td><td>-0.793512</td><td>-0.605341</td><td>0.290531</td><td>-0.72236</td><td>-0.920993</td><td>-0.878488</td><td>-0.733464</td><td>-0.774739</td><td>-1.0</td><td>-0.448465</td><td>-0.315567</td><td>-0.69082</td><td>-0.638882</td><td>-0.633331</td><td>-0.392246</td><td>-0.040442</td></tr></tbody></table></div>"
      ]
     },
     "execution_count": 29,
     "metadata": {},
     "output_type": "execute_result"
    }
   ],
   "execution_count": 29
  },
  {
   "metadata": {
    "ExecuteTime": {
     "end_time": "2024-12-13T14:30:28.096976Z",
     "start_time": "2024-12-13T14:30:28.028214Z"
    }
   },
   "cell_type": "code",
   "source": "temp_lf.describe()",
   "id": "8b6159fdb7309f0f",
   "outputs": [
    {
     "data": {
      "text/plain": [
       "shape: (9, 82)\n",
       "┌───────────┬──────────┬───────────┬───────────┬───┬───────────┬───────────┬───────────┬───────────┐\n",
       "│ statistic ┆ date_id  ┆ feature_0 ┆ feature_0 ┆ … ┆ feature_7 ┆ feature_7 ┆ feature_7 ┆ resp_norm │\n",
       "│ ---       ┆ ---      ┆ 0_normali ┆ 1_normali ┆   ┆ 6_normali ┆ 7_normali ┆ 8_normali ┆ alized    │\n",
       "│ str       ┆ f64      ┆ zed       ┆ zed       ┆   ┆ zed       ┆ zed       ┆ zed       ┆ ---       │\n",
       "│           ┆          ┆ ---       ┆ ---       ┆   ┆ ---       ┆ ---       ┆ ---       ┆ f64       │\n",
       "│           ┆          ┆ f64       ┆ f64       ┆   ┆ f64       ┆ f64       ┆ f64       ┆           │\n",
       "╞═══════════╪══════════╪═══════════╪═══════════╪═══╪═══════════╪═══════════╪═══════════╪═══════════╡\n",
       "│ count     ┆ 100000.0 ┆ 100000.0  ┆ 100000.0  ┆ … ┆ 100000.0  ┆ 100000.0  ┆ 100000.0  ┆ 100000.0  │\n",
       "│ null_coun ┆ 0.0      ┆ 0.0       ┆ 0.0       ┆ … ┆ 0.0       ┆ 0.0       ┆ 0.0       ┆ 0.0       │\n",
       "│ t         ┆          ┆           ┆           ┆   ┆           ┆           ┆           ┆           │\n",
       "│ mean      ┆ 5.13341  ┆ 0.0       ┆ 0.0       ┆ … ┆ -0.52557  ┆ -0.557405 ┆ -0.478127 ┆ -0.015313 │\n",
       "│ std       ┆ 3.259245 ┆ 0.0       ┆ 0.0       ┆ … ┆ 0.436659  ┆ 0.488351  ┆ 0.474851  ┆ 0.496543  │\n",
       "│ min       ┆ 0.0      ┆ 0.0       ┆ 0.0       ┆ … ┆ -1.0      ┆ -1.0      ┆ -1.0      ┆ -1.0      │\n",
       "│ 25%       ┆ 2.0      ┆ 0.0       ┆ 0.0       ┆ … ┆ -0.726723 ┆ -0.830052 ┆ -0.741378 ┆ -0.313377 │\n",
       "│ 50%       ┆ 5.0      ┆ 0.0       ┆ 0.0       ┆ … ┆ -0.622379 ┆ -0.713454 ┆ -0.608878 ┆ -0.013859 │\n",
       "│ 75%       ┆ 8.0      ┆ 0.0       ┆ 0.0       ┆ … ┆ -0.516195 ┆ -0.541434 ┆ -0.436461 ┆ 0.278907  │\n",
       "│ max       ┆ 11.0     ┆ 0.0       ┆ 0.0       ┆ … ┆ 1.0       ┆ 1.0       ┆ 1.0       ┆ 1.0       │\n",
       "└───────────┴──────────┴───────────┴───────────┴───┴───────────┴───────────┴───────────┴───────────┘"
      ],
      "text/html": [
       "<div><style>\n",
       ".dataframe > thead > tr,\n",
       ".dataframe > tbody > tr {\n",
       "  text-align: right;\n",
       "  white-space: pre-wrap;\n",
       "}\n",
       "</style>\n",
       "<small>shape: (9, 82)</small><table border=\"1\" class=\"dataframe\"><thead><tr><th>statistic</th><th>date_id</th><th>feature_00_normalized</th><th>feature_01_normalized</th><th>feature_02_normalized</th><th>feature_03_normalized</th><th>feature_04_normalized</th><th>feature_05_normalized</th><th>feature_06_normalized</th><th>feature_07_normalized</th><th>feature_08_normalized</th><th>feature_09_normalized</th><th>feature_10_normalized</th><th>feature_11_normalized</th><th>feature_12_normalized</th><th>feature_13_normalized</th><th>feature_14_normalized</th><th>feature_15_normalized</th><th>feature_16_normalized</th><th>feature_17_normalized</th><th>feature_18_normalized</th><th>feature_19_normalized</th><th>feature_20_normalized</th><th>feature_21_normalized</th><th>feature_22_normalized</th><th>feature_23_normalized</th><th>feature_24_normalized</th><th>feature_25_normalized</th><th>feature_26_normalized</th><th>feature_27_normalized</th><th>feature_28_normalized</th><th>feature_29_normalized</th><th>feature_30_normalized</th><th>feature_31_normalized</th><th>feature_32_normalized</th><th>feature_33_normalized</th><th>feature_34_normalized</th><th>&hellip;</th><th>feature_43_normalized</th><th>feature_44_normalized</th><th>feature_45_normalized</th><th>feature_46_normalized</th><th>feature_47_normalized</th><th>feature_48_normalized</th><th>feature_49_normalized</th><th>feature_50_normalized</th><th>feature_51_normalized</th><th>feature_52_normalized</th><th>feature_53_normalized</th><th>feature_54_normalized</th><th>feature_55_normalized</th><th>feature_56_normalized</th><th>feature_57_normalized</th><th>feature_58_normalized</th><th>feature_59_normalized</th><th>feature_60_normalized</th><th>feature_61_normalized</th><th>feature_62_normalized</th><th>feature_63_normalized</th><th>feature_64_normalized</th><th>feature_65_normalized</th><th>feature_66_normalized</th><th>feature_67_normalized</th><th>feature_68_normalized</th><th>feature_69_normalized</th><th>feature_70_normalized</th><th>feature_71_normalized</th><th>feature_72_normalized</th><th>feature_73_normalized</th><th>feature_74_normalized</th><th>feature_75_normalized</th><th>feature_76_normalized</th><th>feature_77_normalized</th><th>feature_78_normalized</th><th>resp_normalized</th></tr><tr><td>str</td><td>f64</td><td>f64</td><td>f64</td><td>f64</td><td>f64</td><td>f64</td><td>f64</td><td>f64</td><td>f64</td><td>f64</td><td>f64</td><td>f64</td><td>f64</td><td>f64</td><td>f64</td><td>f64</td><td>f64</td><td>f64</td><td>f64</td><td>f64</td><td>f64</td><td>f64</td><td>f64</td><td>f64</td><td>f64</td><td>f64</td><td>f64</td><td>f64</td><td>f64</td><td>f64</td><td>f64</td><td>f64</td><td>f64</td><td>f64</td><td>f64</td><td>f64</td><td>&hellip;</td><td>f64</td><td>f64</td><td>f64</td><td>f64</td><td>f64</td><td>f64</td><td>f64</td><td>f64</td><td>f64</td><td>f64</td><td>f64</td><td>f64</td><td>f64</td><td>f64</td><td>f64</td><td>f64</td><td>f64</td><td>f64</td><td>f64</td><td>f64</td><td>f64</td><td>f64</td><td>f64</td><td>f64</td><td>f64</td><td>f64</td><td>f64</td><td>f64</td><td>f64</td><td>f64</td><td>f64</td><td>f64</td><td>f64</td><td>f64</td><td>f64</td><td>f64</td><td>f64</td></tr></thead><tbody><tr><td>&quot;count&quot;</td><td>100000.0</td><td>100000.0</td><td>100000.0</td><td>100000.0</td><td>100000.0</td><td>100000.0</td><td>100000.0</td><td>100000.0</td><td>100000.0</td><td>100000.0</td><td>100000.0</td><td>100000.0</td><td>100000.0</td><td>100000.0</td><td>100000.0</td><td>100000.0</td><td>100000.0</td><td>100000.0</td><td>100000.0</td><td>100000.0</td><td>100000.0</td><td>100000.0</td><td>100000.0</td><td>100000.0</td><td>100000.0</td><td>100000.0</td><td>100000.0</td><td>100000.0</td><td>100000.0</td><td>100000.0</td><td>100000.0</td><td>100000.0</td><td>100000.0</td><td>100000.0</td><td>100000.0</td><td>100000.0</td><td>&hellip;</td><td>100000.0</td><td>100000.0</td><td>100000.0</td><td>100000.0</td><td>100000.0</td><td>100000.0</td><td>100000.0</td><td>100000.0</td><td>100000.0</td><td>100000.0</td><td>100000.0</td><td>100000.0</td><td>100000.0</td><td>100000.0</td><td>100000.0</td><td>100000.0</td><td>100000.0</td><td>100000.0</td><td>100000.0</td><td>100000.0</td><td>100000.0</td><td>100000.0</td><td>100000.0</td><td>100000.0</td><td>100000.0</td><td>100000.0</td><td>100000.0</td><td>100000.0</td><td>100000.0</td><td>100000.0</td><td>100000.0</td><td>100000.0</td><td>100000.0</td><td>100000.0</td><td>100000.0</td><td>100000.0</td><td>100000.0</td></tr><tr><td>&quot;null_count&quot;</td><td>0.0</td><td>0.0</td><td>0.0</td><td>0.0</td><td>0.0</td><td>0.0</td><td>0.0</td><td>0.0</td><td>0.0</td><td>0.0</td><td>0.0</td><td>0.0</td><td>0.0</td><td>0.0</td><td>0.0</td><td>0.0</td><td>0.0</td><td>0.0</td><td>0.0</td><td>0.0</td><td>0.0</td><td>0.0</td><td>0.0</td><td>0.0</td><td>0.0</td><td>0.0</td><td>0.0</td><td>0.0</td><td>0.0</td><td>0.0</td><td>0.0</td><td>0.0</td><td>0.0</td><td>0.0</td><td>0.0</td><td>0.0</td><td>&hellip;</td><td>0.0</td><td>0.0</td><td>0.0</td><td>0.0</td><td>0.0</td><td>0.0</td><td>0.0</td><td>0.0</td><td>0.0</td><td>0.0</td><td>0.0</td><td>0.0</td><td>0.0</td><td>0.0</td><td>0.0</td><td>0.0</td><td>0.0</td><td>0.0</td><td>0.0</td><td>0.0</td><td>0.0</td><td>0.0</td><td>0.0</td><td>0.0</td><td>0.0</td><td>0.0</td><td>0.0</td><td>0.0</td><td>0.0</td><td>0.0</td><td>0.0</td><td>0.0</td><td>0.0</td><td>0.0</td><td>0.0</td><td>0.0</td><td>0.0</td></tr><tr><td>&quot;mean&quot;</td><td>5.13341</td><td>0.0</td><td>0.0</td><td>0.0</td><td>0.0</td><td>0.0</td><td>0.132316</td><td>0.035556</td><td>0.067053</td><td>-0.394021</td><td>-0.488853</td><td>0.305923</td><td>-0.535338</td><td>-0.30697</td><td>-0.580529</td><td>-0.396917</td><td>-0.52672</td><td>-0.273254</td><td>-0.33771</td><td>-0.04208</td><td>-0.049747</td><td>0.154009</td><td>0.0</td><td>-0.108384</td><td>0.067751</td><td>-0.203608</td><td>0.016681</td><td>0.0</td><td>0.0</td><td>0.03612</td><td>-0.258544</td><td>-0.308417</td><td>0.0</td><td>0.006044</td><td>0.003837</td><td>0.077464</td><td>&hellip;</td><td>-0.020518</td><td>0.045668</td><td>-0.039242</td><td>0.097693</td><td>0.096893</td><td>0.029725</td><td>0.024623</td><td>-0.099372</td><td>0.138103</td><td>-0.014765</td><td>-0.143791</td><td>-0.132638</td><td>-0.219894</td><td>0.030249</td><td>0.057312</td><td>0.053441</td><td>0.014738</td><td>0.041865</td><td>0.053897</td><td>-0.204777</td><td>-0.255601</td><td>-0.209524</td><td>-0.134801</td><td>-0.094335</td><td>-0.351819</td><td>-0.631954</td><td>-0.442002</td><td>-0.295942</td><td>-0.624703</td><td>-0.404703</td><td>-0.546486</td><td>-0.477002</td><td>-0.621585</td><td>-0.52557</td><td>-0.557405</td><td>-0.478127</td><td>-0.015313</td></tr><tr><td>&quot;std&quot;</td><td>3.259245</td><td>0.0</td><td>0.0</td><td>0.0</td><td>0.0</td><td>0.0</td><td>0.494506</td><td>0.476305</td><td>0.487268</td><td>0.44502</td><td>0.566982</td><td>0.805181</td><td>0.60956</td><td>0.543822</td><td>0.539291</td><td>0.543115</td><td>0.476189</td><td>0.521386</td><td>0.501276</td><td>0.538931</td><td>0.565342</td><td>0.527538</td><td>0.0</td><td>0.50836</td><td>0.513694</td><td>0.474212</td><td>0.561775</td><td>0.0</td><td>0.0</td><td>0.484326</td><td>0.593327</td><td>0.534745</td><td>0.0</td><td>0.483461</td><td>0.568833</td><td>0.530373</td><td>&hellip;</td><td>0.628656</td><td>0.635019</td><td>0.61223</td><td>0.643033</td><td>0.462094</td><td>0.392066</td><td>0.460709</td><td>0.604403</td><td>0.596597</td><td>0.519582</td><td>0.604124</td><td>0.603423</td><td>0.499063</td><td>0.564216</td><td>0.538677</td><td>0.487904</td><td>0.420025</td><td>0.47641</td><td>0.682926</td><td>0.71537</td><td>0.694217</td><td>0.702859</td><td>0.610044</td><td>0.592895</td><td>0.540792</td><td>0.528233</td><td>0.541067</td><td>0.544276</td><td>0.529762</td><td>0.548147</td><td>0.502727</td><td>0.492871</td><td>0.453109</td><td>0.436659</td><td>0.488351</td><td>0.474851</td><td>0.496543</td></tr><tr><td>&quot;min&quot;</td><td>0.0</td><td>0.0</td><td>0.0</td><td>0.0</td><td>0.0</td><td>0.0</td><td>-1.0</td><td>-1.0</td><td>-1.0</td><td>-1.0</td><td>-1.0</td><td>-1.0</td><td>-1.0</td><td>-1.0</td><td>-1.0</td><td>-1.0</td><td>-1.0</td><td>-1.0</td><td>-1.0</td><td>-1.0</td><td>-1.0</td><td>-1.0</td><td>0.0</td><td>-1.0</td><td>-1.0</td><td>-1.0</td><td>-1.0</td><td>0.0</td><td>0.0</td><td>-1.0</td><td>-1.0</td><td>-1.0</td><td>0.0</td><td>-1.0</td><td>-1.0</td><td>-1.0</td><td>&hellip;</td><td>-1.0</td><td>-1.0</td><td>-1.0</td><td>-1.0</td><td>-1.0</td><td>-1.0</td><td>-1.0</td><td>-1.0</td><td>-1.0</td><td>-1.0</td><td>-1.0</td><td>-1.0</td><td>-1.0</td><td>-1.0</td><td>-1.0</td><td>-1.0</td><td>-1.0</td><td>-1.0</td><td>-1.0</td><td>-1.0</td><td>-1.0</td><td>-1.0</td><td>-1.0</td><td>-1.0</td><td>-1.0</td><td>-1.0</td><td>-1.0</td><td>-1.0</td><td>-1.0</td><td>-1.0</td><td>-1.0</td><td>-1.0</td><td>-1.0</td><td>-1.0</td><td>-1.0</td><td>-1.0</td><td>-1.0</td></tr><tr><td>&quot;25%&quot;</td><td>2.0</td><td>0.0</td><td>0.0</td><td>0.0</td><td>0.0</td><td>0.0</td><td>-0.116327</td><td>-0.199098</td><td>-0.189823</td><td>-0.656405</td><td>-0.818182</td><td>-0.333333</td><td>-0.800391</td><td>-0.731537</td><td>-0.926303</td><td>-0.809594</td><td>-0.819075</td><td>-0.661923</td><td>-0.686891</td><td>-0.445803</td><td>-0.455914</td><td>-0.097302</td><td>0.0</td><td>-0.495822</td><td>-0.207388</td><td>-0.571148</td><td>-0.384515</td><td>0.0</td><td>0.0</td><td>-0.22949</td><td>-0.713595</td><td>-0.717146</td><td>0.0</td><td>-0.263896</td><td>-0.45552</td><td>-0.276071</td><td>&hellip;</td><td>-0.594545</td><td>-0.520952</td><td>-0.531823</td><td>-0.429366</td><td>-0.125018</td><td>0.025471</td><td>-0.175943</td><td>-0.550109</td><td>-0.314496</td><td>-0.37027</td><td>-0.580749</td><td>-0.597953</td><td>-0.573574</td><td>-0.387344</td><td>-0.323737</td><td>-0.215725</td><td>-0.076735</td><td>-0.191966</td><td>-0.590772</td><td>-0.743591</td><td>-0.891796</td><td>-0.7553</td><td>-0.566181</td><td>-0.540375</td><td>-0.762491</td><td>-0.93994</td><td>-0.843047</td><td>-0.723653</td><td>-0.937356</td><td>-0.821572</td><td>-0.837716</td><td>-0.760315</td><td>-0.831108</td><td>-0.726723</td><td>-0.830052</td><td>-0.741378</td><td>-0.313377</td></tr><tr><td>&quot;50%&quot;</td><td>5.0</td><td>0.0</td><td>0.0</td><td>0.0</td><td>0.0</td><td>0.0</td><td>0.186212</td><td>0.054868</td><td>0.098761</td><td>-0.439255</td><td>-0.818182</td><td>1.0</td><td>-0.745597</td><td>-0.425128</td><td>-0.821479</td><td>-0.559495</td><td>-0.666316</td><td>-0.358621</td><td>-0.451189</td><td>-0.044575</td><td>-0.126796</td><td>0.159247</td><td>0.0</td><td>-0.096019</td><td>0.054162</td><td>-0.204529</td><td>0.010658</td><td>0.0</td><td>0.0</td><td>0.039424</td><td>-0.279228</td><td>-0.479328</td><td>0.0</td><td>0.022931</td><td>0.020917</td><td>0.101935</td><td>&hellip;</td><td>0.016345</td><td>0.135333</td><td>-0.066969</td><td>0.045865</td><td>0.133171</td><td>0.040712</td><td>0.047084</td><td>-0.196396</td><td>0.289301</td><td>-0.039386</td><td>-0.270343</td><td>-0.287881</td><td>-0.257584</td><td>0.04697</td><td>0.08237</td><td>0.086421</td><td>0.024332</td><td>0.067556</td><td>0.19146</td><td>-0.53275</td><td>-0.511674</td><td>-0.486805</td><td>-0.28857</td><td>-0.206783</td><td>-0.497184</td><td>-0.868366</td><td>-0.621326</td><td>-0.40578</td><td>-0.862454</td><td>-0.576515</td><td>-0.717445</td><td>-0.626906</td><td>-0.745763</td><td>-0.622379</td><td>-0.713454</td><td>-0.608878</td><td>-0.013859</td></tr><tr><td>&quot;75%&quot;</td><td>8.0</td><td>0.0</td><td>0.0</td><td>0.0</td><td>0.0</td><td>0.0</td><td>0.440291</td><td>0.283317</td><td>0.350812</td><td>-0.280234</td><td>-0.012987</td><td>1.0</td><td>-0.745597</td><td>-0.017608</td><td>-0.468273</td><td>-0.144039</td><td>-0.427529</td><td>-0.001546</td><td>-0.120407</td><td>0.306369</td><td>0.40069</td><td>0.542126</td><td>0.0</td><td>0.174235</td><td>0.417382</td><td>0.02292</td><td>0.504567</td><td>0.0</td><td>0.0</td><td>0.327529</td><td>0.003479</td><td>-0.04934</td><td>0.0</td><td>0.294426</td><td>0.454271</td><td>0.461755</td><td>&hellip;</td><td>0.507109</td><td>0.560287</td><td>0.333523</td><td>0.68753</td><td>0.346502</td><td>0.052131</td><td>0.22374</td><td>0.21499</td><td>0.588746</td><td>0.338038</td><td>0.125828</td><td>0.3647</td><td>0.034617</td><td>0.460624</td><td>0.450711</td><td>0.33771</td><td>0.112044</td><td>0.288199</td><td>0.679095</td><td>0.359738</td><td>0.41281</td><td>0.41593</td><td>0.193869</td><td>0.214457</td><td>-0.07672</td><td>-0.591517</td><td>-0.224768</td><td>-0.0002</td><td>-0.573956</td><td>-0.151256</td><td>-0.508577</td><td>-0.429148</td><td>-0.644174</td><td>-0.516195</td><td>-0.541434</td><td>-0.436461</td><td>0.278907</td></tr><tr><td>&quot;max&quot;</td><td>11.0</td><td>0.0</td><td>0.0</td><td>0.0</td><td>0.0</td><td>0.0</td><td>1.0</td><td>1.0</td><td>1.0</td><td>1.0</td><td>1.0</td><td>1.0</td><td>1.0</td><td>1.0</td><td>1.0</td><td>1.0</td><td>1.0</td><td>1.0</td><td>1.0</td><td>1.0</td><td>1.0</td><td>1.0</td><td>0.0</td><td>1.0</td><td>1.0</td><td>1.0</td><td>1.0</td><td>0.0</td><td>0.0</td><td>1.0</td><td>1.0</td><td>1.0</td><td>0.0</td><td>1.0</td><td>1.0</td><td>1.0</td><td>&hellip;</td><td>1.0</td><td>1.0</td><td>1.0</td><td>1.0</td><td>1.0</td><td>1.0</td><td>1.0</td><td>1.0</td><td>1.0</td><td>1.0</td><td>1.0</td><td>1.0</td><td>1.0</td><td>1.0</td><td>1.0</td><td>1.0</td><td>1.0</td><td>1.0</td><td>1.0</td><td>1.0</td><td>1.0</td><td>1.0</td><td>1.0</td><td>1.0</td><td>1.0</td><td>1.0</td><td>1.0</td><td>1.0</td><td>1.0</td><td>1.0</td><td>1.0</td><td>1.0</td><td>1.0</td><td>1.0</td><td>1.0</td><td>1.0</td><td>1.0</td></tr></tbody></table></div>"
      ]
     },
     "execution_count": 24,
     "metadata": {},
     "output_type": "execute_result"
    }
   ],
   "execution_count": 24
  },
  {
   "metadata": {
    "ExecuteTime": {
     "end_time": "2024-12-17T06:10:04.907258Z",
     "start_time": "2024-12-17T06:10:04.818276Z"
    }
   },
   "cell_type": "code",
   "source": "query.select('weight').describe()",
   "id": "3dba780288c4553e",
   "outputs": [
    {
     "data": {
      "text/plain": [
       "shape: (9, 2)\n",
       "┌────────────┬──────────┐\n",
       "│ statistic  ┆ weight   │\n",
       "│ ---        ┆ ---      │\n",
       "│ str        ┆ f64      │\n",
       "╞════════════╪══════════╡\n",
       "│ count      ┆ 1e6      │\n",
       "│ null_count ┆ 0.0      │\n",
       "│ mean       ┆ 2.072165 │\n",
       "│ std        ┆ 1.06575  │\n",
       "│ min        ┆ 0.44057  │\n",
       "│ 25%        ┆ 1.295378 │\n",
       "│ 50%        ┆ 1.799324 │\n",
       "│ 75%        ┆ 2.608444 │\n",
       "│ max        ┆ 6.011999 │\n",
       "└────────────┴──────────┘"
      ],
      "text/html": [
       "<div><style>\n",
       ".dataframe > thead > tr,\n",
       ".dataframe > tbody > tr {\n",
       "  text-align: right;\n",
       "  white-space: pre-wrap;\n",
       "}\n",
       "</style>\n",
       "<small>shape: (9, 2)</small><table border=\"1\" class=\"dataframe\"><thead><tr><th>statistic</th><th>weight</th></tr><tr><td>str</td><td>f64</td></tr></thead><tbody><tr><td>&quot;count&quot;</td><td>1e6</td></tr><tr><td>&quot;null_count&quot;</td><td>0.0</td></tr><tr><td>&quot;mean&quot;</td><td>2.072165</td></tr><tr><td>&quot;std&quot;</td><td>1.06575</td></tr><tr><td>&quot;min&quot;</td><td>0.44057</td></tr><tr><td>&quot;25%&quot;</td><td>1.295378</td></tr><tr><td>&quot;50%&quot;</td><td>1.799324</td></tr><tr><td>&quot;75%&quot;</td><td>2.608444</td></tr><tr><td>&quot;max&quot;</td><td>6.011999</td></tr></tbody></table></div>"
      ]
     },
     "execution_count": 7,
     "metadata": {},
     "output_type": "execute_result"
    }
   ],
   "execution_count": 7
  }
 ],
 "metadata": {
  "kernelspec": {
   "display_name": "Python 3",
   "language": "python",
   "name": "python3"
  },
  "language_info": {
   "codemirror_mode": {
    "name": "ipython",
    "version": 2
   },
   "file_extension": ".py",
   "mimetype": "text/x-python",
   "name": "python",
   "nbconvert_exporter": "python",
   "pygments_lexer": "ipython2",
   "version": "2.7.6"
  }
 },
 "nbformat": 4,
 "nbformat_minor": 5
}
