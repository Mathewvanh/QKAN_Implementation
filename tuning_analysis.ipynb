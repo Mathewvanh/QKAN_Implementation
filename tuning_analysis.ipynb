{
 "cells": [
  {
   "cell_type": "code",
   "id": "initial_id",
   "metadata": {
    "collapsed": true,
    "ExecuteTime": {
     "end_time": "2025-02-17T19:38:51.684680Z",
     "start_time": "2025-02-17T19:38:50.661095Z"
    }
   },
   "source": "import polars as pl",
   "outputs": [],
   "execution_count": 1
  },
  {
   "metadata": {
    "ExecuteTime": {
     "end_time": "2025-02-17T19:45:01.834830Z",
     "start_time": "2025-02-17T19:45:01.663667Z"
    }
   },
   "cell_type": "code",
   "source": "js_results_mlp = pl.read_csv('./tuning_results/jane_street_mlp_tuning.csv')",
   "id": "e8fdb28f83e67616",
   "outputs": [],
   "execution_count": 4
  },
  {
   "metadata": {
    "ExecuteTime": {
     "end_time": "2025-02-17T19:42:25.215867Z",
     "start_time": "2025-02-17T19:42:25.055186Z"
    }
   },
   "cell_type": "code",
   "source": "js_results = pl.read_csv('./tuning_results/jane_street_kan_tuning.csv')",
   "id": "3b102bbeaffe7b6c",
   "outputs": [],
   "execution_count": 2
  },
  {
   "metadata": {
    "ExecuteTime": {
     "end_time": "2025-02-17T19:42:35.084179Z",
     "start_time": "2025-02-17T19:42:35.032760Z"
    }
   },
   "cell_type": "code",
   "source": "js_results.describe()",
   "id": "732bad7e61e2ab6e",
   "outputs": [
    {
     "data": {
      "text/plain": [
       "shape: (9, 12)\n",
       "┌───────────┬───────────┬───────────┬───────────┬───┬───────────┬───────────┬───────────┬──────────┐\n",
       "│ statistic ┆ max_degre ┆ network_s ┆ default_h ┆ … ┆ total_tim ┆ avg_epoch ┆ qubo_time ┆ avg_fold │\n",
       "│ ---       ┆ e         ┆ hape      ┆ idden_deg ┆   ┆ e         ┆ _time     ┆ ---       ┆ _time    │\n",
       "│ str       ┆ ---       ┆ ---       ┆ ree       ┆   ┆ ---       ┆ ---       ┆ f64       ┆ ---      │\n",
       "│           ┆ f64       ┆ f64       ┆ ---       ┆   ┆ f64       ┆ f64       ┆           ┆ f64      │\n",
       "│           ┆           ┆           ┆ f64       ┆   ┆           ┆           ┆           ┆          │\n",
       "╞═══════════╪═══════════╪═══════════╪═══════════╪═══╪═══════════╪═══════════╪═══════════╪══════════╡\n",
       "│ count     ┆ 432.0     ┆ 432.0     ┆ 432.0     ┆ … ┆ 432.0     ┆ 432.0     ┆ 432.0     ┆ 432.0    │\n",
       "│ null_coun ┆ 0.0       ┆ 0.0       ┆ 0.0       ┆ … ┆ 0.0       ┆ 0.0       ┆ 0.0       ┆ 0.0      │\n",
       "│ t         ┆           ┆           ┆           ┆   ┆           ┆           ┆           ┆          │\n",
       "│ mean      ┆ 8.0       ┆ 38.666667 ┆ 6.0       ┆ … ┆ 23479.266 ┆ 44.422724 ┆ 5599.1771 ┆ 7825.585 │\n",
       "│           ┆           ┆           ┆           ┆   ┆ 093       ┆           ┆ 69        ┆ 591      │\n",
       "│ std       ┆ 2.238661  ┆ 18.592716 ┆ 2.238661  ┆ … ┆ 12546.973 ┆ 22.601272 ┆ 3055.2340 ┆ 4181.869 │\n",
       "│           ┆           ┆           ┆           ┆   ┆ 463       ┆           ┆ 49        ┆ 171      │\n",
       "│ min       ┆ 5.0       ┆ 20.0      ┆ 3.0       ┆ … ┆ 11.971729 ┆ 0.027832  ┆ 2.35619   ┆ 3.981158 │\n",
       "│ 25%       ┆ 7.0       ┆ 20.0      ┆ 5.0       ┆ … ┆ 20486.491 ┆ 41.883554 ┆ 4731.2235 ┆ 6828.400 │\n",
       "│           ┆           ┆           ┆           ┆   ┆ 044       ┆           ┆ 08        ┆ 931      │\n",
       "│ 50%       ┆ 9.0       ┆ 32.0      ┆ 7.0       ┆ … ┆ 24604.326 ┆ 47.723497 ┆ 5808.6764 ┆ 8200.579 │\n",
       "│           ┆           ┆           ┆           ┆   ┆ 176       ┆           ┆ 92        ┆ 556      │\n",
       "│ 75%       ┆ 9.0       ┆ 64.0      ┆ 7.0       ┆ … ┆ 35212.589 ┆ 64.384678 ┆ 8509.2744 ┆ 11736.26 │\n",
       "│           ┆           ┆           ┆           ┆   ┆ 026       ┆           ┆ 38        ┆ 4193     │\n",
       "│ max       ┆ 11.0      ┆ 64.0      ┆ 9.0       ┆ … ┆ 39431.014 ┆ 70.390037 ┆ 9612.4630 ┆ 13142.06 │\n",
       "│           ┆           ┆           ┆           ┆   ┆ 55        ┆           ┆ 87        ┆ 2144     │\n",
       "└───────────┴───────────┴───────────┴───────────┴───┴───────────┴───────────┴───────────┴──────────┘"
      ],
      "text/html": [
       "<div><style>\n",
       ".dataframe > thead > tr,\n",
       ".dataframe > tbody > tr {\n",
       "  text-align: right;\n",
       "  white-space: pre-wrap;\n",
       "}\n",
       "</style>\n",
       "<small>shape: (9, 12)</small><table border=\"1\" class=\"dataframe\"><thead><tr><th>statistic</th><th>max_degree</th><th>network_shape</th><th>default_hidden_degree</th><th>complexity_weight</th><th>learning_rate</th><th>mean_val_metric</th><th>std_val_metric</th><th>total_time</th><th>avg_epoch_time</th><th>qubo_time</th><th>avg_fold_time</th></tr><tr><td>str</td><td>f64</td><td>f64</td><td>f64</td><td>f64</td><td>f64</td><td>f64</td><td>f64</td><td>f64</td><td>f64</td><td>f64</td><td>f64</td></tr></thead><tbody><tr><td>&quot;count&quot;</td><td>432.0</td><td>432.0</td><td>432.0</td><td>432.0</td><td>432.0</td><td>432.0</td><td>432.0</td><td>432.0</td><td>432.0</td><td>432.0</td><td>432.0</td></tr><tr><td>&quot;null_count&quot;</td><td>0.0</td><td>0.0</td><td>0.0</td><td>0.0</td><td>0.0</td><td>0.0</td><td>0.0</td><td>0.0</td><td>0.0</td><td>0.0</td><td>0.0</td></tr><tr><td>&quot;mean&quot;</td><td>8.0</td><td>38.666667</td><td>6.0</td><td>0.003667</td><td>0.000533</td><td>0.031175</td><td>0.001769</td><td>23479.266093</td><td>44.422724</td><td>5599.177169</td><td>7825.585591</td></tr><tr><td>&quot;std&quot;</td><td>2.238661</td><td>18.592716</td><td>2.238661</td><td>0.004502</td><td>0.000369</td><td>0.000987</td><td>0.001152</td><td>12546.973463</td><td>22.601272</td><td>3055.234049</td><td>4181.869171</td></tr><tr><td>&quot;min&quot;</td><td>5.0</td><td>20.0</td><td>3.0</td><td>0.0</td><td>0.0001</td><td>0.012494</td><td>0.000677</td><td>11.971729</td><td>0.027832</td><td>2.35619</td><td>3.981158</td></tr><tr><td>&quot;25%&quot;</td><td>7.0</td><td>20.0</td><td>5.0</td><td>0.0</td><td>0.0001</td><td>0.030962</td><td>0.001492</td><td>20486.491044</td><td>41.883554</td><td>4731.223508</td><td>6828.400931</td></tr><tr><td>&quot;50%&quot;</td><td>9.0</td><td>32.0</td><td>7.0</td><td>0.001</td><td>0.0005</td><td>0.03118</td><td>0.001702</td><td>24604.326176</td><td>47.723497</td><td>5808.676492</td><td>8200.579556</td></tr><tr><td>&quot;75%&quot;</td><td>9.0</td><td>64.0</td><td>7.0</td><td>0.01</td><td>0.001</td><td>0.031412</td><td>0.001914</td><td>35212.589026</td><td>64.384678</td><td>8509.274438</td><td>11736.264193</td></tr><tr><td>&quot;max&quot;</td><td>11.0</td><td>64.0</td><td>9.0</td><td>0.01</td><td>0.001</td><td>0.03267</td><td>0.024313</td><td>39431.01455</td><td>70.390037</td><td>9612.463087</td><td>13142.062144</td></tr></tbody></table></div>"
      ]
     },
     "execution_count": 3,
     "metadata": {},
     "output_type": "execute_result"
    }
   ],
   "execution_count": 3
  },
  {
   "metadata": {
    "ExecuteTime": {
     "end_time": "2025-02-17T19:45:10.812225Z",
     "start_time": "2025-02-17T19:45:10.793530Z"
    }
   },
   "cell_type": "code",
   "source": "js_results_mlp.describe()",
   "id": "e63c5cd0ecbed2a8",
   "outputs": [
    {
     "data": {
      "text/plain": [
       "shape: (9, 12)\n",
       "┌────────────┬─────────┬───────────┬───────────┬───┬───────────┬───────────┬───────────┬───────────┐\n",
       "│ statistic  ┆ depth   ┆ hidden_si ┆ dropout_r ┆ … ┆ std_val_m ┆ total_tim ┆ avg_epoch ┆ avg_fold_ │\n",
       "│ ---        ┆ ---     ┆ ze        ┆ ate       ┆   ┆ etric     ┆ e         ┆ _time     ┆ time      │\n",
       "│ str        ┆ f64     ┆ ---       ┆ ---       ┆   ┆ ---       ┆ ---       ┆ ---       ┆ ---       │\n",
       "│            ┆         ┆ f64       ┆ f64       ┆   ┆ f64       ┆ f64       ┆ f64       ┆ f64       │\n",
       "╞════════════╪═════════╪═══════════╪═══════════╪═══╪═══════════╪═══════════╪═══════════╪═══════════╡\n",
       "│ count      ┆ 288.0   ┆ 288.0     ┆ 288.0     ┆ … ┆ 288.0     ┆ 288.0     ┆ 288.0     ┆ 288.0     │\n",
       "│ null_count ┆ 0.0     ┆ 0.0       ┆ 0.0       ┆ … ┆ 0.0       ┆ 0.0       ┆ 0.0       ┆ 0.0       │\n",
       "│ mean       ┆ 3.5     ┆ 74.666667 ┆ 0.15      ┆ … ┆ 0.006687  ┆ 10452.531 ┆ 69.605899 ┆ 3483.4654 │\n",
       "│            ┆         ┆           ┆           ┆   ┆           ┆ 379       ┆           ┆ 82        │\n",
       "│ std        ┆ 1.11998 ┆ 39.980483 ┆ 0.050087  ┆ … ┆ 0.005148  ┆ 7692.4393 ┆ 51.234088 ┆ 2563.7127 │\n",
       "│            ┆         ┆           ┆           ┆   ┆           ┆ 53        ┆           ┆ 91        │\n",
       "│ min        ┆ 2.0     ┆ 32.0      ┆ 0.1       ┆ … ┆ 0.000292  ┆ 87.401394 ┆ 0.58196   ┆ 29.124044 │\n",
       "│ 25%        ┆ 3.0     ┆ 32.0      ┆ 0.1       ┆ … ┆ 0.003358  ┆ 3468.4265 ┆ 23.08839  ┆ 1155.8052 │\n",
       "│            ┆         ┆           ┆           ┆   ┆           ┆ 43        ┆           ┆ 93        │\n",
       "│ 50%        ┆ 4.0     ┆ 64.0      ┆ 0.2       ┆ … ┆ 0.005538  ┆ 9136.6205 ┆ 60.839028 ┆ 3044.8715 │\n",
       "│            ┆         ┆           ┆           ┆   ┆           ┆ 18        ┆           ┆ 15        │\n",
       "│ 75%        ┆ 4.0     ┆ 128.0     ┆ 0.2       ┆ … ┆ 0.008274  ┆ 16289.567 ┆ 108.48012 ┆ 5428.8165 │\n",
       "│            ┆         ┆           ┆           ┆   ┆           ┆ 934       ┆ 4         ┆           │\n",
       "│ max        ┆ 5.0     ┆ 128.0     ┆ 0.2       ┆ … ┆ 0.035339  ┆ 26447.641 ┆ 176.14688 ┆ 8814.3326 │\n",
       "│            ┆         ┆           ┆           ┆   ┆           ┆ 376       ┆ 9         ┆ 75        │\n",
       "└────────────┴─────────┴───────────┴───────────┴───┴───────────┴───────────┴───────────┴───────────┘"
      ],
      "text/html": [
       "<div><style>\n",
       ".dataframe > thead > tr,\n",
       ".dataframe > tbody > tr {\n",
       "  text-align: right;\n",
       "  white-space: pre-wrap;\n",
       "}\n",
       "</style>\n",
       "<small>shape: (9, 12)</small><table border=\"1\" class=\"dataframe\"><thead><tr><th>statistic</th><th>depth</th><th>hidden_size</th><th>dropout_rate</th><th>learning_rate</th><th>weight_decay</th><th>batch_size</th><th>mean_val_metric</th><th>std_val_metric</th><th>total_time</th><th>avg_epoch_time</th><th>avg_fold_time</th></tr><tr><td>str</td><td>f64</td><td>f64</td><td>f64</td><td>f64</td><td>f64</td><td>f64</td><td>f64</td><td>f64</td><td>f64</td><td>f64</td><td>f64</td></tr></thead><tbody><tr><td>&quot;count&quot;</td><td>288.0</td><td>288.0</td><td>288.0</td><td>288.0</td><td>288.0</td><td>288.0</td><td>288.0</td><td>288.0</td><td>288.0</td><td>288.0</td><td>288.0</td></tr><tr><td>&quot;null_count&quot;</td><td>0.0</td><td>0.0</td><td>0.0</td><td>0.0</td><td>0.0</td><td>0.0</td><td>0.0</td><td>0.0</td><td>0.0</td><td>0.0</td><td>0.0</td></tr><tr><td>&quot;mean&quot;</td><td>3.5</td><td>74.666667</td><td>0.15</td><td>0.00055</td><td>0.0005</td><td>149.333333</td><td>0.03607</td><td>0.006687</td><td>10452.531379</td><td>69.605899</td><td>3483.465482</td></tr><tr><td>&quot;std&quot;</td><td>1.11998</td><td>39.980483</td><td>0.050087</td><td>0.000451</td><td>0.000501</td><td>79.960966</td><td>0.011035</td><td>0.005148</td><td>7692.439353</td><td>51.234088</td><td>2563.712791</td></tr><tr><td>&quot;min&quot;</td><td>2.0</td><td>32.0</td><td>0.1</td><td>0.0001</td><td>0.0</td><td>64.0</td><td>-0.027902</td><td>0.000292</td><td>87.401394</td><td>0.58196</td><td>29.124044</td></tr><tr><td>&quot;25%&quot;</td><td>3.0</td><td>32.0</td><td>0.1</td><td>0.0001</td><td>0.0</td><td>64.0</td><td>0.033881</td><td>0.003358</td><td>3468.426543</td><td>23.08839</td><td>1155.805293</td></tr><tr><td>&quot;50%&quot;</td><td>4.0</td><td>64.0</td><td>0.2</td><td>0.001</td><td>0.001</td><td>128.0</td><td>0.038927</td><td>0.005538</td><td>9136.620518</td><td>60.839028</td><td>3044.871515</td></tr><tr><td>&quot;75%&quot;</td><td>4.0</td><td>128.0</td><td>0.2</td><td>0.001</td><td>0.001</td><td>256.0</td><td>0.04224</td><td>0.008274</td><td>16289.567934</td><td>108.480124</td><td>5428.8165</td></tr><tr><td>&quot;max&quot;</td><td>5.0</td><td>128.0</td><td>0.2</td><td>0.001</td><td>0.001</td><td>256.0</td><td>0.05318</td><td>0.035339</td><td>26447.641376</td><td>176.146889</td><td>8814.332675</td></tr></tbody></table></div>"
      ]
     },
     "execution_count": 5,
     "metadata": {},
     "output_type": "execute_result"
    }
   ],
   "execution_count": 5
  }
 ],
 "metadata": {
  "kernelspec": {
   "display_name": "Python 3",
   "language": "python",
   "name": "python3"
  },
  "language_info": {
   "codemirror_mode": {
    "name": "ipython",
    "version": 2
   },
   "file_extension": ".py",
   "mimetype": "text/x-python",
   "name": "python",
   "nbconvert_exporter": "python",
   "pygments_lexer": "ipython2",
   "version": "2.7.6"
  }
 },
 "nbformat": 4,
 "nbformat_minor": 5
}
